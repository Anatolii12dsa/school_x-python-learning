{
 "cells": [
  {
   "cell_type": "code",
   "execution_count": 76,
   "id": "ea775a13-5ed4-43a6-a4fd-0ed8aa9718c1",
   "metadata": {},
   "outputs": [],
   "source": [
    "class Human:\n",
    "\n",
    "\n",
    "    iq: int = 100\n",
    "\n",
    "    def __init__(\n",
    "        self,\n",
    "        weight: float | int = 80,\n",
    "        height: float | int = 170,\n",
    "        name: str | None = None,\n",
    "    ):\n",
    "        self.weight = weight\n",
    "        self.height = height\n",
    "        self.name = name\n",
    "        \n",
    "    \n",
    "    def walk(self, speed: float | int = 1.0):\n",
    "        print('Я иду со скоростью:', speed)\n",
    "\n",
    "    def run(self, speed: float | int = 5.0):\n",
    "        if self.weight > 110:\n",
    "            print('Я не могу бегать')\n",
    "        else:\n",
    "            print('Я бегу')\n",
    "        \n",
    "    def breathe(self):\n",
    "        if self.height > 200:\n",
    "            print('тут наверху трудно дышать')\n",
    "        elif self.weight >= 180:\n",
    "            print('я не могу дышать')\n",
    "        elif self.iq <60:\n",
    "            print('я забыл как дышать')\n",
    "        else:\n",
    "            print('Я дышу')\n",
    "\n",
    "\n",
    "        "
   ]
  },
  {
   "cell_type": "code",
   "execution_count": 77,
   "id": "f18c36e4-ef1f-40f9-bd22-4df523246c23",
   "metadata": {},
   "outputs": [],
   "source": [
    "vova1 = Human()"
   ]
  },
  {
   "cell_type": "code",
   "execution_count": 78,
   "id": "74036301-5ef1-4859-86ee-cc8bede3834f",
   "metadata": {},
   "outputs": [
    {
     "name": "stdout",
     "output_type": "stream",
     "text": [
      "Я иду со скоростью: 3\n"
     ]
    }
   ],
   "source": [
    "vova1.walk(3)"
   ]
  },
  {
   "cell_type": "code",
   "execution_count": 79,
   "id": "34c550df-dcec-440a-b5f4-f303abc96f36",
   "metadata": {},
   "outputs": [],
   "source": [
    "vova1.weight\n",
    "vova1.name = 'Vova'"
   ]
  },
  {
   "cell_type": "code",
   "execution_count": 80,
   "id": "5be6bb1d-be24-4f64-98be-d2da7c782684",
   "metadata": {},
   "outputs": [
    {
     "data": {
      "text/plain": [
       "'Vova'"
      ]
     },
     "execution_count": 80,
     "metadata": {},
     "output_type": "execute_result"
    }
   ],
   "source": [
    "vova1.name"
   ]
  },
  {
   "cell_type": "code",
   "execution_count": 81,
   "id": "4c1710d6-d38b-4a7f-888c-48d28169815b",
   "metadata": {},
   "outputs": [
    {
     "name": "stdout",
     "output_type": "stream",
     "text": [
      "Я бегу\n"
     ]
    }
   ],
   "source": [
    "vova1.run()"
   ]
  },
  {
   "cell_type": "code",
   "execution_count": 82,
   "id": "ed9e4059-4a21-4a35-91a5-19b98acd4bd6",
   "metadata": {},
   "outputs": [],
   "source": [
    "vova2 = Human(\n",
    "    height = 90,\n",
    "    weight = 220,\n",
    "    name = 'Vova'\n",
    ")"
   ]
  },
  {
   "cell_type": "code",
   "execution_count": 83,
   "id": "b0bb6b57-2350-490b-8601-f26827d79536",
   "metadata": {},
   "outputs": [
    {
     "name": "stdout",
     "output_type": "stream",
     "text": [
      "Я не могу бегать\n"
     ]
    }
   ],
   "source": [
    "vova2.run()"
   ]
  },
  {
   "cell_type": "code",
   "execution_count": 84,
   "id": "1bfda763-0e94-4473-bf5d-136034680517",
   "metadata": {},
   "outputs": [
    {
     "name": "stdout",
     "output_type": "stream",
     "text": [
      "я не могу дышать\n"
     ]
    }
   ],
   "source": [
    "vova2.breathe()"
   ]
  },
  {
   "cell_type": "code",
   "execution_count": 87,
   "id": "73513199-77e1-4c1c-b281-2548d52f2fdd",
   "metadata": {},
   "outputs": [],
   "source": [
    "vova3 = Human(height=300, weight=90)\n",
    "vova4 = Human(height=180, weight=400)\n",
    "vova5 = Human()\n",
    "vova5.iq = 30"
   ]
  },
  {
   "cell_type": "code",
   "execution_count": 88,
   "id": "9085cf50-21df-4c45-a904-a8bfba0be0d9",
   "metadata": {},
   "outputs": [
    {
     "name": "stdout",
     "output_type": "stream",
     "text": [
      "VOVA 3\n",
      "Я иду со скоростью: 1.0\n",
      "Я бегу\n",
      "тут наверху трудно дышать\n",
      "---------------\n",
      "VOVA 4\n",
      "Я иду со скоростью: 1.0\n",
      "Я не могу бегать\n",
      "я не могу дышать\n",
      "---------------\n",
      "VOVA 5\n",
      "Я иду со скоростью: 1.0\n",
      "Я бегу\n",
      "я забыл как дышать\n",
      "---------------\n"
     ]
    }
   ],
   "source": [
    "for index_vova, local_vova in enumerate([vova3, vova4, vova5]):\n",
    "    index_vova += 3\n",
    "    print('VOVA', index_vova)\n",
    "    local_vova.walk()\n",
    "    local_vova.run()\n",
    "    local_vova.breathe()\n",
    "    print('-' * 15)\n",
    "    \n"
   ]
  },
  {
   "cell_type": "code",
   "execution_count": 106,
   "id": "d22c99d1-5729-4ac3-9b74-32922ce68675",
   "metadata": {},
   "outputs": [],
   "source": [
    "class HumanWorker(Human):\n",
    "    def work():\n",
    "        print('я работаю')\n",
    "    def walk(self, speed = 0.5):\n",
    "        print('Я иду загруженный со скоростью:', speed)\n",
    "    def run(self, speed = 0.5):\n",
    "        print('Я не могу бегать на складе, могу только ходить загруженный со скоростью:', speed)\n",
    "        "
   ]
  },
  {
   "cell_type": "code",
   "execution_count": 107,
   "id": "86bbb36e-fdb2-441d-a93b-61e793f41840",
   "metadata": {},
   "outputs": [],
   "source": [
    "vova_worker1 = HumanWorker()\n"
   ]
  },
  {
   "cell_type": "code",
   "execution_count": 108,
   "id": "8072881e-c523-4711-9d64-c53008e1b70f",
   "metadata": {},
   "outputs": [
    {
     "name": "stdout",
     "output_type": "stream",
     "text": [
      "Я не могу бегать на складе, могу только ходить загруженный со скоростью: 0.5\n"
     ]
    }
   ],
   "source": [
    "vova_worker1.run()"
   ]
  },
  {
   "cell_type": "code",
   "execution_count": null,
   "id": "bba8418e-59a6-47e1-819f-18b1f648322d",
   "metadata": {},
   "outputs": [],
   "source": []
  }
 ],
 "metadata": {
  "kernelspec": {
   "display_name": "Python 3 (ipykernel)",
   "language": "python",
   "name": "python3"
  },
  "language_info": {
   "codemirror_mode": {
    "name": "ipython",
    "version": 3
   },
   "file_extension": ".py",
   "mimetype": "text/x-python",
   "name": "python",
   "nbconvert_exporter": "python",
   "pygments_lexer": "ipython3",
   "version": "3.11.2"
  }
 },
 "nbformat": 4,
 "nbformat_minor": 5
}
