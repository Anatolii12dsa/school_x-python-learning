{
 "cells": [
  {
   "cell_type": "code",
   "execution_count": 60,
   "id": "f19ca260-2eeb-4d1d-b1ea-23f59b0e78e3",
   "metadata": {},
   "outputs": [],
   "source": [
    "class MixinFlyable:\n",
    "\n",
    "    def fly(self):\n",
    "        print('I fly')\n",
    "        \n",
    "class MixinWalkble:\n",
    "    def walf(self):\n",
    "        print('I walk')"
   ]
  },
  {
   "cell_type": "code",
   "execution_count": 61,
   "id": "e4a7dea4-7bdf-45da-835a-fa0703755e66",
   "metadata": {},
   "outputs": [],
   "source": [
    "class Bird(MixinFlyable, MixinWalkble) :\n",
    "    wings_lenght_cm: float = 12.5\n",
    "    legs_lenght_cm: float = 3.5\n",
    "    color: str = 'red'\n",
    "\n",
    "    def __init__(\n",
    "        self,\n",
    "        wings_lenght_cm: float = 12.5,\n",
    "        legs_lenght_cm: float = 3.5,\n",
    "        color: str = 'red'\n",
    "    ):\n",
    "        self.wings_lenght: wings_lenght\n",
    "        self.legs_lenght: legs_lenght\n",
    "        self.color: color\n",
    "        print('Bird Initialized')\n",
    "\n",
    "    def fly(self):\n",
    "        print('I fly')\n",
    "\n",
    "    def swim(self):\n",
    "        print('I swim')\n",
    "\n",
    "    def walk(self):\n",
    "        print('I walk')\n",
    "\n",
    "    def make_noise(self):\n",
    "        print('Tweet')\n",
    "\n",
    "class RubberToy:\n",
    "    wings_lenght_cm: float = 12.5\n",
    "    legs_lenght_cm: float = 3.5\n",
    "    color: str = 'red'\n",
    "    def __init__(\n",
    "        self,\n",
    "        toxic: bool = False,\n",
    "        size_cm3: float = 12,\n",
    "        color: str = 'yellow',\n",
    "    ):\n",
    "        self.toxic: bool = toxic\n",
    "        self.size_cm3: float = size_cm3\n",
    "        self.color: str = color\n",
    "        print('RubberToy Initialized')\n",
    "\n",
    "    def bounce(self):\n",
    "        print('plums')\n",
    "\n",
    "    def deform(self):\n",
    "        print('morphing time')\n",
    "\n",
    "    def make_noise(self):\n",
    "        print('peep')\n",
    "    \n",
    "    \n",
    "    "
   ]
  },
  {
   "cell_type": "code",
   "execution_count": 53,
   "id": "721cf461-6467-4774-808d-a95f4fe491c4",
   "metadata": {},
   "outputs": [
    {
     "name": "stdout",
     "output_type": "stream",
     "text": [
      "Bird Initialized\n"
     ]
    }
   ],
   "source": [
    "bird1 = Bird()"
   ]
  },
  {
   "cell_type": "code",
   "execution_count": 54,
   "id": "89658ecf-5025-478c-9faf-335ce29838a5",
   "metadata": {},
   "outputs": [
    {
     "name": "stdout",
     "output_type": "stream",
     "text": [
      "RubberToy Initialized\n",
      "peep\n"
     ]
    }
   ],
   "source": [
    "toy1 = RubberToy()\n",
    "toy1.make_noise()"
   ]
  },
  {
   "cell_type": "code",
   "execution_count": 55,
   "id": "82cb6063-1ec6-4e7d-932f-43c98991f371",
   "metadata": {},
   "outputs": [],
   "source": [
    "class RubberBird(RubberToy, Bird):\n",
    "    pass"
   ]
  },
  {
   "cell_type": "code",
   "execution_count": 56,
   "id": "46d0cf3b-4c96-4d5e-9abc-3b4911671441",
   "metadata": {},
   "outputs": [
    {
     "name": "stdout",
     "output_type": "stream",
     "text": [
      "RubberToy Initialized\n"
     ]
    }
   ],
   "source": [
    "rub_bird1 = RubberBird()"
   ]
  },
  {
   "cell_type": "code",
   "execution_count": 57,
   "id": "2081e76f-ed45-4060-8cbd-ee33e5d62b8c",
   "metadata": {},
   "outputs": [
    {
     "name": "stdout",
     "output_type": "stream",
     "text": [
      "peep\n"
     ]
    }
   ],
   "source": [
    "rub_bird1.make_noise()\n"
   ]
  },
  {
   "cell_type": "code",
   "execution_count": 58,
   "id": "f63bc702-1ea6-4830-9bd5-62965abab1ba",
   "metadata": {},
   "outputs": [
    {
     "data": {
      "text/plain": [
       "12.5"
      ]
     },
     "execution_count": 58,
     "metadata": {},
     "output_type": "execute_result"
    }
   ],
   "source": [
    "rub_bird1.wings_lenght_cm"
   ]
  },
  {
   "cell_type": "code",
   "execution_count": null,
   "id": "490932b9-0148-4888-b201-c861fd05e93d",
   "metadata": {},
   "outputs": [],
   "source": []
  }
 ],
 "metadata": {
  "kernelspec": {
   "display_name": "Python 3 (ipykernel)",
   "language": "python",
   "name": "python3"
  },
  "language_info": {
   "codemirror_mode": {
    "name": "ipython",
    "version": 3
   },
   "file_extension": ".py",
   "mimetype": "text/x-python",
   "name": "python",
   "nbconvert_exporter": "python",
   "pygments_lexer": "ipython3",
   "version": "3.11.2"
  }
 },
 "nbformat": 4,
 "nbformat_minor": 5
}
