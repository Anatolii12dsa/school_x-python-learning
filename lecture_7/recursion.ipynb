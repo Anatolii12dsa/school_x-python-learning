{
 "cells": [
  {
   "cell_type": "code",
   "execution_count": null,
   "id": "06141bcb-12bb-4df2-98bf-0c3ab402d3a1",
   "metadata": {},
   "outputs": [],
   "source": []
  },
  {
   "cell_type": "code",
   "execution_count": 1,
   "id": "f8d21243-d0b7-40dd-b40c-02c4462bfbc7",
   "metadata": {},
   "outputs": [],
   "source": [
    "tree = {\n",
    "    1: {\n",
    "        1: {\n",
    "            1: 'text',\n",
    "            2: 'text',\n",
    "            3: 'text',\n",
    "\n",
    "        },\n",
    "\n",
    "    },\n",
    "    2: {\n",
    "        1: {\n",
    "            1: {\n",
    "                1: {\n",
    "                    1: 'folder',\n",
    "                    2: 'folder',\n",
    "                    3: 'target_folder',\n",
    "                },\n",
    "                2: [1, 2, 3]\n",
    "            }\n",
    "        }          \n",
    "    },\n",
    "}"
   ]
  },
  {
   "cell_type": "code",
   "execution_count": 2,
   "id": "fd196972-df49-44d6-ae40-5764b1a87972",
   "metadata": {},
   "outputs": [
    {
     "data": {
      "text/plain": [
       "{1: {1: {1: 'text', 2: 'text', 3: 'text'}},\n",
       " 2: {1: {1: {1: {1: 'folder', 2: 'folder', 3: 'target_folder'},\n",
       "    2: [1, 2, 3]}}}}"
      ]
     },
     "execution_count": 2,
     "metadata": {},
     "output_type": "execute_result"
    }
   ],
   "source": [
    "tree\n"
   ]
  },
  {
   "cell_type": "code",
   "execution_count": 13,
   "id": "69ef0788-9d76-43bd-bf47-9a7d0c49f96e",
   "metadata": {},
   "outputs": [],
   "source": [
    "def rec_find(tree: dict, name: str):\n",
    "    for key, value in tree.items():\n",
    "        if isinstance(value, dict):\n",
    "            print(f'кlюч - {key}, значение - {value}')\n"
   ]
  },
  {
   "cell_type": "code",
   "execution_count": 14,
   "id": "c6b3ce78-d09e-4041-b096-0b64677f3222",
   "metadata": {},
   "outputs": [
    {
     "name": "stdout",
     "output_type": "stream",
     "text": [
      "кlюч - 1, значение - {1: {1: 'text', 2: 'text', 3: 'text'}}\n",
      "кlюч - 2, значение - {1: {1: {1: {1: 'folder', 2: 'folder', 3: 'target_folder'}, 2: [1, 2, 3]}}}\n"
     ]
    }
   ],
   "source": [
    "rec_find(tree, 'target_folder')"
   ]
  },
  {
   "cell_type": "code",
   "execution_count": 16,
   "id": "633cfb6e-c35c-41e1-89e3-be5cf918f7ec",
   "metadata": {},
   "outputs": [
    {
     "ename": "NameError",
     "evalue": "name 'a' is not defined",
     "output_type": "error",
     "traceback": [
      "\u001b[1;31m---------------------------------------------------------------------------\u001b[0m",
      "\u001b[1;31mNameError\u001b[0m                                 Traceback (most recent call last)",
      "Cell \u001b[1;32mIn[16], line 1\u001b[0m\n\u001b[1;32m----> 1\u001b[0m \u001b[38;5;28misinstance\u001b[39m(\u001b[43ma\u001b[49m, \u001b[38;5;28mint\u001b[39m)\n",
      "\u001b[1;31mNameError\u001b[0m: name 'a' is not defined"
     ]
    }
   ],
   "source": [
    "isinstance(a, int)"
   ]
  },
  {
   "cell_type": "code",
   "execution_count": null,
   "id": "bbb1fa27-80fb-43b7-8fe3-aa0daf5322e1",
   "metadata": {},
   "outputs": [],
   "source": []
  }
 ],
 "metadata": {
  "kernelspec": {
   "display_name": "Python 3 (ipykernel)",
   "language": "python",
   "name": "python3"
  },
  "language_info": {
   "codemirror_mode": {
    "name": "ipython",
    "version": 3
   },
   "file_extension": ".py",
   "mimetype": "text/x-python",
   "name": "python",
   "nbconvert_exporter": "python",
   "pygments_lexer": "ipython3",
   "version": "3.11.2"
  }
 },
 "nbformat": 4,
 "nbformat_minor": 5
}
