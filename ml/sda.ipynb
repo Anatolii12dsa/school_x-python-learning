{
 "cells": [
  {
   "cell_type": "code",
   "execution_count": 3,
   "metadata": {},
   "outputs": [],
   "source": [
    "import pathlib\n",
    "from torchvision.transforms import transforms\n",
    "from torch.utils.data import Dataset\n",
    "import torch\n",
    "import torch.nn as nn"
   ]
  },
  {
   "cell_type": "code",
   "execution_count": 5,
   "metadata": {},
   "outputs": [],
   "source": [
    "class LatinDataset(Dataset):\n",
    "  def __init__(self, path_dataset: pathlib.Path):\n",
    "    self.path_dataset = path_dataset\n",
    "    self.data_list = [x for x in self.path_dataset.glob(\"**/*\") if x.is_file()]\n",
    "    self.data_class = list(set(x.parent for x in self.data_list))\n",
    "    self.transform_func = transforms.Compose([\n",
    "      transforms.ToPILImage(),\n",
    "      transforms.Grayscale(),\n",
    "      transforms.Resize((124, 124)),\n",
    "      transforms.PILToTensor()\n",
    "  ])\n",
    "\n",
    "  def __len__(self):\n",
    "    return len(self.data_list)\n",
    "\n",
    "  def __getitem__(self, index):\n",
    "    img_path = self.data_list[index]\n",
    "    img_label = torch.zeros(len(self.data_class))\n",
    "    img_label[self.data_class.index(img_path.parent)] = 1.0\n",
    "    img_tensor = read_image(img_path)\n",
    "    return self.transform_func(img_tensor), img_label"
   ]
  },
  {
   "cell_type": "code",
   "execution_count": 6,
   "metadata": {},
   "outputs": [],
   "source": [
    "Dataset = LatinDataset(path_dataset=pathlib.Path('./Latin/'))"
   ]
  },
  {
   "cell_type": "code",
   "execution_count": null,
   "metadata": {},
   "outputs": [],
   "source": [
    "class CVModel(nn.Module):\n",
    "    def __init__(self):\n",
    "        self.conv_1 = nn.Conv2d(1, 33, (3, 3))\n",
    "        self.conv_2 = nn.Conv2d(32, 64, (3, 3))\n",
    "        self.pool_1 = nn.MaxPool2d((2, 2))\n",
    "        self.conv_3 = nn.Conv2d(64, 128, (3, 3))\n",
    "        self.conv_4 = nn.Conv2d(128, 128, (3, 3))\n",
    "        self.pool_2 = nn.MaxPool2d((2, 2))\n",
    "        self.glob_pool = nn.Flatten()\n",
    "        self.linear = nn.Linear(128, 26)\n",
    "        self.softmax = nn.Softmax()\n",
    "    def forward(self, X):\n",
    "        res = self.conv_1(X)\n",
    "        res = self.conv_2(res)\n",
    "        res = self.pool_1(res)\n",
    "        res = self.conv_3(res)\n",
    "        res = self.conv_4(res)\n",
    "        res = self.pool_2(res)\n",
    "        res = self.glob_pool(res)\n",
    "        res = self.linear(res.view(-1, 128))\n",
    "        return self.softmax(res)"
   ]
  }
 ],
 "metadata": {
  "kernelspec": {
   "display_name": "Python 3",
   "language": "python",
   "name": "python3"
  },
  "language_info": {
   "codemirror_mode": {
    "name": "ipython",
    "version": 3
   },
   "file_extension": ".py",
   "mimetype": "text/x-python",
   "name": "python",
   "nbconvert_exporter": "python",
   "pygments_lexer": "ipython3",
   "version": "3.11.2"
  }
 },
 "nbformat": 4,
 "nbformat_minor": 2
}
