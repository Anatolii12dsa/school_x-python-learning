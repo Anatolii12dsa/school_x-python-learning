{
 "cells": [
  {
   "cell_type": "code",
   "execution_count": 8,
   "metadata": {},
   "outputs": [
    {
     "name": "stderr",
     "output_type": "stream",
     "text": [
      "[nltk_data] Downloading package punkt to\n",
      "[nltk_data]     C:\\Users\\pozdn\\AppData\\Roaming\\nltk_data...\n",
      "[nltk_data]   Unzipping tokenizers\\punkt.zip.\n",
      "[nltk_data] Downloading package averaged_perceptron_tagger to\n",
      "[nltk_data]     C:\\Users\\pozdn\\AppData\\Roaming\\nltk_data...\n",
      "[nltk_data]   Unzipping taggers\\averaged_perceptron_tagger.zip.\n",
      "[nltk_data] Downloading package wordnet to\n",
      "[nltk_data]     C:\\Users\\pozdn\\AppData\\Roaming\\nltk_data...\n"
     ]
    },
    {
     "data": {
      "text/plain": [
       "True"
      ]
     },
     "execution_count": 8,
     "metadata": {},
     "output_type": "execute_result"
    }
   ],
   "source": [
    "import nltk\n",
    "nltk.download('punkt') \n",
    "nltk.download('averaged_perceptron_tagger') \n",
    "nltk.download('wordnet')\n",
    "\n"
   ]
  },
  {
   "cell_type": "code",
   "execution_count": 14,
   "metadata": {},
   "outputs": [],
   "source": [
    "sentence = 'A clever fox was jumping over the wall.'\n",
    "word = nltk.tokenize.NLTKWordTokenizer()\n",
    "possent = pos_tag(word.tokenize(sentence))\n",
    "grammar = \"NP:{<DT>?<JJ>*<NN>}\"\n",
    "Reg_parser = nltk.RegexpParser(grammar)\n",
    "Reg_parser.parse(possent)\n",
    "Output = Reg_parser.parse(possent)\n",
    "Output.draw()"
   ]
  },
  {
   "cell_type": "code",
   "execution_count": 16,
   "metadata": {},
   "outputs": [
    {
     "name": "stdout",
     "output_type": "stream",
     "text": [
      "[('There', 'EX'), ('is', 'VBZ'), ('floating', 'VBG'), ('a', 'DT'), ('brick', 'NN'), ('from', 'IN'), ('the', 'DT'), ('town', 'NN'), ('of', 'IN'), ('Byron', 'NNP')]\n"
     ]
    }
   ],
   "source": [
    "print(pos_tag(word.tokenize(sentence)))"
   ]
  },
  {
   "cell_type": "code",
   "execution_count": 15,
   "metadata": {},
   "outputs": [],
   "source": [
    "sentence = 'There is floating a brick from the town of Byron'\n",
    "word = nltk.tokenize.NLTKWordTokenizer()\n",
    "possent = pos_tag(word.tokenize(sentence))\n",
    "grammar = \"NP:{<EX>*<VBZ>*<DT>*<VBG>}\"\n",
    "Reg_parser = nltk.RegexpParser(grammar)\n",
    "Reg_parser.parse(possent)\n",
    "Output = Reg_parser.parse(possent)\n",
    "Output.draw()"
   ]
  },
  {
   "cell_type": "code",
   "execution_count": null,
   "metadata": {},
   "outputs": [],
   "source": []
  }
 ],
 "metadata": {
  "kernelspec": {
   "display_name": "Python 3",
   "language": "python",
   "name": "python3"
  },
  "language_info": {
   "codemirror_mode": {
    "name": "ipython",
    "version": 3
   },
   "file_extension": ".py",
   "mimetype": "text/x-python",
   "name": "python",
   "nbconvert_exporter": "python",
   "pygments_lexer": "ipython3",
   "version": "3.11.2"
  }
 },
 "nbformat": 4,
 "nbformat_minor": 2
}
