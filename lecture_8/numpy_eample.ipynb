{
 "cells": [
  {
   "cell_type": "code",
   "execution_count": 1,
   "metadata": {},
   "outputs": [
    {
     "name": "stdout",
     "output_type": "stream",
     "text": [
      "Note: you may need to restart the kernel to use updated packages.\n"
     ]
    },
    {
     "name": "stderr",
     "output_type": "stream",
     "text": [
      "\n",
      "[notice] A new release of pip is available: 23.0.1 -> 23.2.1\n",
      "[notice] To update, run: python.exe -m pip install --upgrade pip\n"
     ]
    }
   ],
   "source": [
    "%pip install -Uq numpy\n"
   ]
  },
  {
   "cell_type": "code",
   "execution_count": 2,
   "metadata": {},
   "outputs": [],
   "source": [
    "import numpy as np"
   ]
  },
  {
   "cell_type": "code",
   "execution_count": 3,
   "metadata": {},
   "outputs": [],
   "source": [
    "matrix1 = np.array([\n",
    "    [1, 1, 1],\n",
    "    [1, 2, 3],\n",
    "    [11, 12, 12],\n",
    "    [2, 1, 45]])\n",
    "\n",
    "matrix2 = ([[4, 5, 6],\n",
    "            [7, 8, 9],\n",
    "            [77, 12, 24],\n",
    "            [2, 1, 45] ])"
   ]
  },
  {
   "cell_type": "code",
   "execution_count": 4,
   "metadata": {},
   "outputs": [
    {
     "data": {
      "text/plain": [
       "array([[ 5,  6,  7],\n",
       "       [ 8, 10, 12],\n",
       "       [88, 24, 36],\n",
       "       [ 4,  2, 90]])"
      ]
     },
     "execution_count": 4,
     "metadata": {},
     "output_type": "execute_result"
    }
   ],
   "source": [
    "matrix1 + matrix2\n"
   ]
  },
  {
   "cell_type": "code",
   "execution_count": 5,
   "metadata": {},
   "outputs": [
    {
     "ename": "NameError",
     "evalue": "name 'Matrix' is not defined",
     "output_type": "error",
     "traceback": [
      "\u001b[1;31m---------------------------------------------------------------------------\u001b[0m",
      "\u001b[1;31mNameError\u001b[0m                                 Traceback (most recent call last)",
      "\u001b[1;32mc:\\Users\\pozdn\\python_lek\\lecture_8\\numpy_eample.ipynb Ячейка 5\u001b[0m line \u001b[0;36m1\n\u001b[1;32m----> <a href='vscode-notebook-cell:/c%3A/Users/pozdn/python_lek/lecture_8/numpy_eample.ipynb#W4sZmlsZQ%3D%3D?line=0'>1</a>\u001b[0m \u001b[39mclass\u001b[39;49;00m \u001b[39mMatrix\u001b[39;49;00m:\n\u001b[0;32m      <a href='vscode-notebook-cell:/c%3A/Users/pozdn/python_lek/lecture_8/numpy_eample.ipynb#W4sZmlsZQ%3D%3D?line=1'>2</a>\u001b[0m     matrix \u001b[39m=\u001b[39;49m []\n\u001b[0;32m      <a href='vscode-notebook-cell:/c%3A/Users/pozdn/python_lek/lecture_8/numpy_eample.ipynb#W4sZmlsZQ%3D%3D?line=3'>4</a>\u001b[0m     \u001b[39mdef\u001b[39;49;00m \u001b[39mtest_all\u001b[39;49m(matrix1: Matrix, matrix2: Matrix):\n",
      "\u001b[1;32mc:\\Users\\pozdn\\python_lek\\lecture_8\\numpy_eample.ipynb Ячейка 5\u001b[0m line \u001b[0;36m4\n\u001b[0;32m      <a href='vscode-notebook-cell:/c%3A/Users/pozdn/python_lek/lecture_8/numpy_eample.ipynb#W4sZmlsZQ%3D%3D?line=0'>1</a>\u001b[0m \u001b[39mclass\u001b[39;00m \u001b[39mMatrix\u001b[39;00m:\n\u001b[0;32m      <a href='vscode-notebook-cell:/c%3A/Users/pozdn/python_lek/lecture_8/numpy_eample.ipynb#W4sZmlsZQ%3D%3D?line=1'>2</a>\u001b[0m     matrix \u001b[39m=\u001b[39m []\n\u001b[1;32m----> <a href='vscode-notebook-cell:/c%3A/Users/pozdn/python_lek/lecture_8/numpy_eample.ipynb#W4sZmlsZQ%3D%3D?line=3'>4</a>\u001b[0m     \u001b[39mdef\u001b[39;00m \u001b[39mtest_all\u001b[39m(matrix1: Matrix, matrix2: Matrix):\n\u001b[0;32m      <a href='vscode-notebook-cell:/c%3A/Users/pozdn/python_lek/lecture_8/numpy_eample.ipynb#W4sZmlsZQ%3D%3D?line=4'>5</a>\u001b[0m         \u001b[39massert\u001b[39;00m(\n\u001b[0;32m      <a href='vscode-notebook-cell:/c%3A/Users/pozdn/python_lek/lecture_8/numpy_eample.ipynb#W4sZmlsZQ%3D%3D?line=5'>6</a>\u001b[0m             [[\u001b[39m1\u001b[39m, \u001b[39m1\u001b[39m, \u001b[39m1\u001b[39m],\n\u001b[0;32m      <a href='vscode-notebook-cell:/c%3A/Users/pozdn/python_lek/lecture_8/numpy_eample.ipynb#W4sZmlsZQ%3D%3D?line=6'>7</a>\u001b[0m             [\u001b[39m1\u001b[39m, \u001b[39m2\u001b[39m, \u001b[39m3\u001b[39m],\n\u001b[1;32m   (...)\u001b[0m\n\u001b[0;32m     <a href='vscode-notebook-cell:/c%3A/Users/pozdn/python_lek/lecture_8/numpy_eample.ipynb#W4sZmlsZQ%3D%3D?line=17'>18</a>\u001b[0m             [\u001b[39m88\u001b[39m, \u001b[39m24\u001b[39m, \u001b[39m36\u001b[39m],\n\u001b[0;32m     <a href='vscode-notebook-cell:/c%3A/Users/pozdn/python_lek/lecture_8/numpy_eample.ipynb#W4sZmlsZQ%3D%3D?line=18'>19</a>\u001b[0m             [ \u001b[39m4\u001b[39m,  \u001b[39m2\u001b[39m, \u001b[39m90\u001b[39m]])\n",
      "\u001b[1;31mNameError\u001b[0m: name 'Matrix' is not defined"
     ]
    }
   ],
   "source": [
    "class Matrix:\n",
    "    matrix = []\n",
    "\n",
    "    def test_all(matrix1: Matrix, matrix2: Matrix):\n",
    "        assert(\n",
    "            [[1, 1, 1],\n",
    "            [1, 2, 3],\n",
    "            [11, 12, 12],\n",
    "            [2, 1, 45],]\n",
    "            +\n",
    "            [[4, 5, 6],\n",
    "            [7, 8, 9],\n",
    "            [77, 12, 24],\n",
    "            [2, 1, 45],]\n",
    "            ==\n",
    "            [[ 5,  6,  7],\n",
    "            [ 8, 10, 12],\n",
    "            [88, 24, 36],\n",
    "            [ 4,  2, 90]])"
   ]
  },
  {
   "cell_type": "code",
   "execution_count": null,
   "metadata": {},
   "outputs": [],
   "source": []
  }
 ],
 "metadata": {
  "kernelspec": {
   "display_name": "Python 3",
   "language": "python",
   "name": "python3"
  },
  "language_info": {
   "codemirror_mode": {
    "name": "ipython",
    "version": 3
   },
   "file_extension": ".py",
   "mimetype": "text/x-python",
   "name": "python",
   "nbconvert_exporter": "python",
   "pygments_lexer": "ipython3",
   "version": "3.11.2"
  },
  "orig_nbformat": 4
 },
 "nbformat": 4,
 "nbformat_minor": 2
}
