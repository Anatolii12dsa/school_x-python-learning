{
 "cells": [
  {
   "cell_type": "code",
   "execution_count": 35,
   "metadata": {},
   "outputs": [],
   "source": [
    "class Matrix:\n",
    "    def __init__(self, matrix):\n",
    "        self.matrix = matrix\n",
    "\n",
    "    # def T(self):\n",
    "    #     transposed_matrix = Matrix()\n",
    "    #     transposed_matrix.matrix = self.matrix.T\n",
    "    #     return transposed_matrix\n",
    "\n",
    "    def __add__(self, other):\n",
    "        result_matrix = []\n",
    "        for i in range(len(self.matrix)):\n",
    "            row = []\n",
    "            for j in range(len(self.matrix[0])):\n",
    "                row.append(self.matrix[i][j] + other.matrix[i][j])\n",
    "            result_matrix.append(row)\n",
    "        return(result_matrix)\n",
    "    \n",
    "    def __sub__(self, other):\n",
    "        result_matrix = []\n",
    "        for i in range(len(self.matrix)):\n",
    "            row = []\n",
    "            for j in range(len(self.matrix[0])):\n",
    "                row.append(self.matrix[i][j] - other.matrix[i][j])\n",
    "            result_matrix.append(row)\n",
    "        return(result_matrix)\n",
    "\n",
    "    def __matmul__(self, other):\n",
    "        if len(self.matrix[0]) != len(other.matrix):\n",
    "            raise ValueError(\"Количество столбцов первой матрицы должно быть равно количеству строк второй матрицы\")\n",
    "        result_matrix = []\n",
    "        for i in range(len(self.matrix)):\n",
    "            row = []\n",
    "            for j in range(len(other.matrix[0])):\n",
    "                val = 0\n",
    "                for k in range(len(other.matrix)):\n",
    "                    val += self.matrix[i][k] * other.matrix[k][j]\n",
    "                row.append(val)\n",
    "            result_matrix.append(row)\n",
    "        return(result_matrix)\n",
    "    \n",
    "    def __truediv__(self, other):\n",
    "\n",
    "        # def find_inverse_matrix(self, matrix):\n",
    "        #     m_len = len(self.matrix)\n",
    "            # matrix_e = [[0.0] * _len for i in range(_len)]\n",
    "            # for i in range(_len):\n",
    "            #     matrix_e[i][i] = 1.0\n",
    "            \n",
    "            # extempted_matrix = [row + [0] * m_len for row in matrix]\n",
    "            # for i in range(m_len):\n",
    "            #     extempted_matrix[i][m_len + i] = 1\n",
    "\n",
    "            # for i in range(m_len):\n",
    "            #     max_row = i\n",
    "            #     for j in range(i+1, m_len):\n",
    "            #         if abs(extempted_matrix[j][i]) > abs(extempted_matrix[max_row][i]):\n",
    "            #             max_row = j\n",
    "            #     extempted_matrix[i], extempted_matrix[max_row] = extempted_matrix[max_row], extempted_matrix[i]\n",
    "\n",
    "            #     max_num = extempted_matrix[i][i]\n",
    "            #     for j in range(i, m_len * 2):\n",
    "            #         extempted_matrix[i][j] /= max_num   #делаем дмагональные элементы равынми 1\n",
    "\n",
    "            #     for j in range(m_len):\n",
    "            #         if j != i:\n",
    "            #             num = extempted_matrix[j][i]\n",
    "            #             for k in range(i, m_len * 2):\n",
    "            #                 extempted_matrix[j][k] -= num * extempted_matrix[i][k]\n",
    "\n",
    "            # inverse_matrix = [row[m_len:] for row in extempted_matrix]\n",
    "\n",
    "            # return inverse_matrix \n",
    "        \n",
    "\n",
    "        # result_matrix = []\n",
    "        # inverse_matrix = find_inverse_matrix(other.matrix)\n",
    "        # for i in range(len(self.matrix)):\n",
    "        #     row = []\n",
    "        #     for j in range(len(inverse_matrix)):\n",
    "        #         val = 0\n",
    "        #         for k in range(len(inverse_matrix)):\n",
    "        #             val += self.matrix[i][k] * inverse_matrix[k][j]\n",
    "        #         row.append(val)\n",
    "        #     result_matrix.append(row)\n",
    "        # return(result_matrix)\n",
    "        result_matrix = []\n",
    "        for i in range(len(self.matrix)):\n",
    "            row = []\n",
    "            for j in range(len(self.matrix[0])):\n",
    "                row.append(self.matrix[i][j] / other.matrix[i][j])\n",
    "            result_matrix.append(row)\n",
    "        return(result_matrix)\n",
    "    \n",
    "    def __mul__(self, other):\n",
    "        result_matrix = []\n",
    "        for i in range(len(self.matrix)):\n",
    "            row = []\n",
    "            for j in range(len(self.matrix[0])):\n",
    "                row.append(self.matrix[i][j] * other.matrix[i][j])\n",
    "            result_matrix.append(row)\n",
    "        return(result_matrix)\n",
    "\n",
    "    def __eq__(self, other):\n",
    "        if isinstance(other, Matrix):\n",
    "            return self.matrix == other.matrix\n",
    "        else:\n",
    "            return False\n",
    "\n",
    "            \n",
    "\n",
    "\n",
    "\n",
    "\n",
    "\n"
   ]
  },
  {
   "cell_type": "code",
   "execution_count": 37,
   "metadata": {},
   "outputs": [
    {
     "name": "stdout",
     "output_type": "stream",
     "text": [
      "False\n",
      "[[False False False]\n",
      " [False False False]\n",
      " [False  True False]]\n"
     ]
    }
   ],
   "source": [
    "d3_array1 = [[2, 3, 4],\n",
    "             [4, 3, 1],\n",
    "             [7, 5, 9]]\n",
    "d3_array2 = [[4, 4, 5],\n",
    "             [8, 6, 4],\n",
    "             [1, 5, 7]]\n",
    "\n",
    "my_matrix1 = Matrix(d3_array1)\n",
    "my_matrix2 = Matrix(d3_array2)\n",
    "\n",
    "np_matrix1 = np.array(d3_array1)\n",
    "np_matrix2 = np.array(d3_array2)\n",
    "\n",
    "print(my_matrix1 == my_matrix2)\n",
    "print(np_matrix1 == np_matrix2)"
   ]
  },
  {
   "cell_type": "code",
   "execution_count": 15,
   "metadata": {},
   "outputs": [
    {
     "name": "stdout",
     "output_type": "stream",
     "text": [
      "Note: you may need to restart the kernel to use updated packages.\n"
     ]
    },
    {
     "name": "stderr",
     "output_type": "stream",
     "text": [
      "\n",
      "[notice] A new release of pip is available: 23.0.1 -> 23.2.1\n",
      "[notice] To update, run: python.exe -m pip install --upgrade pip\n"
     ]
    }
   ],
   "source": [
    "%pip install -Uq numpy"
   ]
  },
  {
   "cell_type": "code",
   "execution_count": 16,
   "metadata": {},
   "outputs": [],
   "source": [
    "import numpy as np"
   ]
  },
  {
   "cell_type": "code",
   "execution_count": null,
   "metadata": {},
   "outputs": [],
   "source": []
  }
 ],
 "metadata": {
  "kernelspec": {
   "display_name": "Python 3",
   "language": "python",
   "name": "python3"
  },
  "language_info": {
   "codemirror_mode": {
    "name": "ipython",
    "version": 3
   },
   "file_extension": ".py",
   "mimetype": "text/x-python",
   "name": "python",
   "nbconvert_exporter": "python",
   "pygments_lexer": "ipython3",
   "version": "3.11.2"
  },
  "orig_nbformat": 4
 },
 "nbformat": 4,
 "nbformat_minor": 2
}
