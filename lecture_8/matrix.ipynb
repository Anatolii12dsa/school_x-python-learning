{
 "cells": [
  {
   "cell_type": "code",
   "execution_count": 41,
   "metadata": {},
   "outputs": [],
   "source": [
    "class Matrix:\n",
    "    def __init__(self, matrix):\n",
    "        self.matrix = matrix\n",
    "\n",
    "    def T(self):\n",
    "        _len = len(self.matrix)\n",
    "        t_matrix = [[0 for i in range(_len)] for i in range(_len)]\n",
    "\n",
    "        for i in range(_len):\n",
    "            for j in range(_len):\n",
    "                t_matrix[j][i] = self.matrix[i][j]\n",
    "\n",
    "        return Matrix(t_matrix)\n",
    "\n",
    "    def __add__(self, other):\n",
    "        if isinstance(other, (int | float)):\n",
    "            result_matrix = []\n",
    "            for i in range(len(self.matrix)):\n",
    "                row = []\n",
    "                for j in range(len(self.matrix[0])):\n",
    "                    row.append(self.matrix[i][j] + other)\n",
    "                result_matrix.append(row)\n",
    "            return (result_matrix)\n",
    "        elif isinstance(other, Matrix):\n",
    "            result_matrix = []\n",
    "            for i in range(len(self.matrix)):\n",
    "                row = []\n",
    "                for j in range(len(self.matrix[0])):\n",
    "                    row.append(self.matrix[i][j] + other.matrix[i][j])\n",
    "                result_matrix.append(row)\n",
    "            return (result_matrix)\n",
    "    \n",
    "    def __sub__(self, other):\n",
    "        if isinstance(other, (int | float)):\n",
    "            result_matrix = []\n",
    "            for i in range(len(self.matrix)):\n",
    "                row = []\n",
    "                for j in range(len(self.matrix[0])):\n",
    "                    row.append(self.matrix[i][j] - other)\n",
    "                result_matrix.append(row)\n",
    "            return (result_matrix)\n",
    "        \n",
    "        elif isinstance(other, Matrix):\n",
    "            result_matrix = []\n",
    "            for i in range(len(self.matrix)):\n",
    "                row = []\n",
    "                for j in range(len(self.matrix[0])):\n",
    "                    row.append(self.matrix[i][j] - other.matrix[i][j])\n",
    "                result_matrix.append(row)\n",
    "            return (result_matrix)\n",
    "\n",
    "    def __matmul__(self, other):\n",
    "        if len(self.matrix[0]) != len(other.matrix):\n",
    "            raise ValueError(\"Количество столбцов первой матрицы должно быть равно количеству строк второй матрицы\")\n",
    "        result_matrix = []\n",
    "        for i in range(len(self.matrix)):\n",
    "            row = []\n",
    "            for j in range(len(other.matrix[0])):\n",
    "                val = 0\n",
    "                for k in range(len(other.matrix)):\n",
    "                    val += self.matrix[i][k] * other.matrix[k][j]\n",
    "                row.append(val)\n",
    "            result_matrix.append(row)\n",
    "        return (result_matrix)\n",
    "    \n",
    "    def __truediv__(self, other):\n",
    "\n",
    "        # def find_inverse_matrix(self, matrix):\n",
    "        #     m_len = len(self.matrix)\n",
    "            # matrix_e = [[0.0] * _len for i in range(_len)]\n",
    "            # for i in range(_len):\n",
    "            #     matrix_e[i][i] = 1.0\n",
    "            \n",
    "            # extempted_matrix = [row + [0] * m_len for row in matrix]\n",
    "            # for i in range(m_len):\n",
    "            #     extempted_matrix[i][m_len + i] = 1\n",
    "\n",
    "            # for i in range(m_len):\n",
    "            #     max_row = i\n",
    "            #     for j in range(i+1, m_len):\n",
    "            #         if abs(extempted_matrix[j][i]) > abs(extempted_matrix[max_row][i]):\n",
    "            #             max_row = j\n",
    "            #     extempted_matrix[i], extempted_matrix[max_row] = extempted_matrix[max_row], extempted_matrix[i]\n",
    "\n",
    "            #     max_num = extempted_matrix[i][i]\n",
    "            #     for j in range(i, m_len * 2):\n",
    "            #         extempted_matrix[i][j] /= max_num   #делаем дмагональные элементы равынми 1\n",
    "\n",
    "            #     for j in range(m_len):\n",
    "            #         if j != i:\n",
    "            #             num = extempted_matrix[j][i]\n",
    "            #             for k in range(i, m_len * 2):\n",
    "            #                 extempted_matrix[j][k] -= num * extempted_matrix[i][k]\n",
    "\n",
    "            # inverse_matrix = [row[m_len:] for row in extempted_matrix]\n",
    "\n",
    "            # return inverse_matrix \n",
    "        \n",
    "\n",
    "        # result_matrix = []\n",
    "        # inverse_matrix = find_inverse_matrix(other.matrix)\n",
    "        # for i in range(len(self.matrix)):\n",
    "        #     row = []\n",
    "        #     for j in range(len(inverse_matrix)):\n",
    "        #         val = 0\n",
    "        #         for k in range(len(inverse_matrix)):\n",
    "        #             val += self.matrix[i][k] * inverse_matrix[k][j]\n",
    "        #         row.append(val)\n",
    "        #     result_matrix.append(row)\n",
    "        # return(result_matrix)\n",
    "        if isinstance(other, (int | float)):\n",
    "            result_matrix = []\n",
    "            for i in range(len(self.matrix)):\n",
    "                row = []\n",
    "                for j in range(len(self.matrix[0])):\n",
    "                    row.append(self.matrix[i][j] / other)\n",
    "                result_matrix.append(row)\n",
    "            return (result_matrix)\n",
    "        elif isinstance(other, Matrix):\n",
    "            result_matrix = []\n",
    "            for i in range(len(self.matrix)):\n",
    "                row = []\n",
    "                for j in range(len(self.matrix[0])):\n",
    "                    row.append(self.matrix[i][j] / other.matrix[i][j])\n",
    "                result_matrix.append(row)\n",
    "            return (result_matrix)\n",
    "    \n",
    "    def __mul__(self, other):\n",
    "        if isinstance(other, (int | float)):\n",
    "            result_matrix = []\n",
    "            for i in range(len(self.matrix)):\n",
    "                row = []\n",
    "                for j in range(len(self.matrix[0])):\n",
    "                    row.append(self.matrix[i][j] * other)\n",
    "                result_matrix.append(row)\n",
    "            return (result_matrix)\n",
    "        elif isinstance(other, Matrix):\n",
    "            result_matrix = []\n",
    "            for i in range(len(self.matrix)):\n",
    "                row = []\n",
    "                for j in range(len(self.matrix[0])):\n",
    "                    row.append(self.matrix[i][j] * other.matrix[i][j])\n",
    "                result_matrix.append(row)\n",
    "            return (result_matrix)\n",
    "\n",
    "    def __eq__(self, other):\n",
    "        result_matrix = []\n",
    "        \n",
    "        for i in range(len(self.matrix)):\n",
    "            row = []\n",
    "            for j in range(len(self.matrix[0])):\n",
    "                row.append((self.matrix[i][j]) == (other.matrix[i][j]))\n",
    "            result_matrix.append(row)\n",
    "        return (result_matrix)\n",
    "        \n",
    "        \n",
    "    def __repr__(self):\n",
    "        return str(self.matrix)\n",
    "            \n",
    "\n",
    "\n",
    "\n",
    "\n",
    "\n"
   ]
  },
  {
   "cell_type": "code",
   "execution_count": 24,
   "metadata": {},
   "outputs": [
    {
     "data": {
      "text/plain": [
       "[[1, 2, 3], [1, 2, 3]]"
      ]
     },
     "execution_count": 24,
     "metadata": {},
     "output_type": "execute_result"
    }
   ],
   "source": [
    "class Test:\n",
    "    array = [[1, 2, 3], [1, 2, 3]]\n",
    "    \n",
    "    def __repr__(self):\n",
    "        return str(self.array)\n",
    "    \n",
    "t = Test()\n",
    "t"
   ]
  },
  {
   "cell_type": "code",
   "execution_count": 34,
   "metadata": {},
   "outputs": [
    {
     "name": "stdout",
     "output_type": "stream",
     "text": [
      "[[ True  True  True]\n",
      " [ True  True  True]\n",
      " [ True  True  True]]\n",
      "[[36, 46, 50], [41, 39, 39], [77, 103, 118]]\n",
      "[[ 36  46  50]\n",
      " [ 41  39  39]\n",
      " [ 77 103 118]]\n"
     ]
    }
   ],
   "source": [
    "d3_array1 = [[2, 3, 4],\n",
    "             [4, 3, 1],\n",
    "             [7, 5, 9]]\n",
    "d3_array2 = [[4, 4, 5],\n",
    "             [8, 6, 4],\n",
    "             [1, 5, 7]]\n",
    "\n",
    "my_matrix1 = Matrix(d3_array1)\n",
    "my_matrix2 = Matrix(d3_array2)\n",
    "\n",
    "np_matrix1 = np.array(d3_array1)\n",
    "np_matrix2 = np.array(d3_array2)\n",
    "\n",
    "\n",
    "print((my_matrix1 @ my_matrix2) == (np_matrix1 @ np_matrix2))\n",
    "\n",
    "print(my_matrix1 @ my_matrix2)\n",
    "print(np_matrix1 @ np_matrix2)"
   ]
  },
  {
   "cell_type": "code",
   "execution_count": 25,
   "metadata": {},
   "outputs": [
    {
     "name": "stdout",
     "output_type": "stream",
     "text": [
      "Note: you may need to restart the kernel to use updated packages.\n"
     ]
    },
    {
     "name": "stderr",
     "output_type": "stream",
     "text": [
      "\n",
      "[notice] A new release of pip is available: 23.0.1 -> 23.2.1\n",
      "[notice] To update, run: python.exe -m pip install --upgrade pip\n"
     ]
    }
   ],
   "source": [
    "%pip install -Uq numpy"
   ]
  },
  {
   "cell_type": "code",
   "execution_count": 26,
   "metadata": {},
   "outputs": [],
   "source": [
    "import numpy as np"
   ]
  },
  {
   "cell_type": "code",
   "execution_count": 4,
   "metadata": {},
   "outputs": [
    {
     "name": "stdout",
     "output_type": "stream",
     "text": [
      "Note: you may need to restart the kernel to use updated packages.\n"
     ]
    },
    {
     "name": "stderr",
     "output_type": "stream",
     "text": [
      "\n",
      "[notice] A new release of pip is available: 23.0.1 -> 23.2.1\n",
      "[notice] To update, run: python.exe -m pip install --upgrade pip\n"
     ]
    }
   ],
   "source": [
    "%pip install -q ipytest pytest\n",
    "\n",
    "import ipytest\n",
    "import pytest\n",
    "ipytest.autoconfig()"
   ]
  },
  {
   "cell_type": "code",
   "execution_count": 42,
   "metadata": {},
   "outputs": [
    {
     "name": "stdout",
     "output_type": "stream",
     "text": [
      "\u001b[32m.\u001b[0m\u001b[32m.\u001b[0m\u001b[32m.\u001b[0m\u001b[32m.\u001b[0m\u001b[32m.\u001b[0m\u001b[32m.\u001b[0m\u001b[32m.\u001b[0m\u001b[32m.\u001b[0m\u001b[32m.\u001b[0m\u001b[32m.\u001b[0m\u001b[32m                                                                                   [100%]\u001b[0m\n",
      "\u001b[32m\u001b[32m\u001b[1m10 passed\u001b[0m\u001b[32m in 0.03s\u001b[0m\u001b[0m\n"
     ]
    }
   ],
   "source": [
    "%%ipytest\n",
    "\n",
    "matrix1 = Matrix([[2, 3, 4],\n",
    "           [4, 3, 1],\n",
    "           [7, 5, 9]])\n",
    "matrix2 = Matrix([[4, 4, 5],\n",
    "           [8, 6, 4],\n",
    "           [1, 5, 7]])\n",
    "# number = 5\n",
    "\n",
    "\n",
    "@pytest.mark.parametrize(\"matrix1,matrix2\", [[matrix1, matrix2]])\n",
    "def test_matrix_add_matrix(matrix1: Matrix, matrix2: Matrix):\n",
    "    assert (\n",
    "        (matrix1 + matrix2 == (np.array(matrix1.matrix) + np.array(matrix2.matrix))).all()\n",
    "    ), 'add section with matrices is not working right'\n",
    "\n",
    "@pytest.mark.parametrize(\"matrix1,number\", [[matrix1, 13.2]])\n",
    "def test_matrix_add_number(matrix1: Matrix, number: int | float):\n",
    "    assert (\n",
    "        (matrix1 + number == np.array(matrix1.matrix) + number).all()\n",
    "    ), 'add section with matrix and number is not working right'\n",
    "\n",
    "@pytest.mark.parametrize(\"matrix1,matrix2\", [[matrix1, matrix2]])\n",
    "def test_matrix_sub_matrix(matrix1: Matrix, matrix2: Matrix):\n",
    "    assert (\n",
    "        (matrix1 - matrix2 == np.array(matrix1.matrix) - np.array(matrix2.matrix)).all()\n",
    "    ), 'sub section with matrices is not working right'\n",
    "\n",
    "@pytest.mark.parametrize(\"matrix1,number\", [[matrix1, 12.2]])    \n",
    "def test_matrix_sub_number(matrix1: Matrix, number: int | float):\n",
    "    assert (\n",
    "        (matrix1 - number == np.array(matrix1.matrix) - number).all()\n",
    "    ), 'sub section with matrix and number is not working right'\n",
    "    \n",
    "@pytest.mark.parametrize(\"matrix1\", [matrix1])    \n",
    "def test_matrix_transpose(matrix1: Matrix):\n",
    "    assert (\n",
    "        (matrix1.T().matrix == np.array(matrix1.matrix).T).all()\n",
    "    ), 'transpose section is not working right'\n",
    "    \n",
    "# -----------------------------------------\n",
    "\n",
    "@pytest.mark.parametrize(\"matrix1,matrix2\", [[matrix1, matrix2]])\n",
    "def test_matrix_mul_matrix(matrix1: Matrix, matrix2: Matrix):\n",
    "    assert (\n",
    "        (matrix1 * matrix2 == np.array(matrix1.matrix) * np.array(matrix2.matrix)).all()\n",
    "    ), 'mul section with matrices is not working right'\n",
    "\n",
    "@pytest.mark.parametrize(\"matrix1,number\", [[matrix1, 13]])\n",
    "def test_matrix_mul_number(matrix1: Matrix, number: int | float):\n",
    "    assert (\n",
    "        (matrix1 * number == np.array(matrix1.matrix) * number).all()\n",
    "    ), 'mul section with matrix and number is not working right'\n",
    "\n",
    "@pytest.mark.parametrize(\"matrix1,matrix2\", [[matrix1, matrix2]])    \n",
    "def test_matrix_div_matrix(matrix1: Matrix, matrix2: Matrix):\n",
    "    assert (\n",
    "        (matrix1 / matrix2 == np.array(matrix1.matrix) / np.array(matrix2.matrix)).all()\n",
    "    ), 'div section with matrices is not working right'\n",
    "\n",
    "@pytest.mark.parametrize(\"matrix1,number\", [[matrix1, 2]])    \n",
    "def test_matrix_div_number(matrix1: Matrix, number: int | float):\n",
    "    assert (\n",
    "        (matrix1 / number == np.array(matrix1.matrix) / number).all()\n",
    "    ), 'div section with matrix and number is not working right'\n",
    "\n",
    "@pytest.mark.parametrize(\"matrix1,matrix2\", [[matrix1, matrix2.T()]])    \n",
    "def test_matrix_matmul_matrix(matrix1: Matrix, matrix2: Matrix):\n",
    "    assert(\n",
    "        (matrix1 @ matrix2 == np.array(matrix1.matrix) @ np.array(matrix2.matrix)).all()\n",
    "    ), 'matmul section is not working right, and don\\'t forget about T() if needed'"
   ]
  },
  {
   "cell_type": "code",
   "execution_count": 42,
   "metadata": {},
   "outputs": [
    {
     "data": {
      "text/plain": [
       "False"
      ]
     },
     "execution_count": 42,
     "metadata": {},
     "output_type": "execute_result"
    }
   ],
   "source": [
    "a = np.array([1, 2, 3])\n",
    "b = np.array([1, 3, 3])\n",
    "\n",
    "(a == b).all()"
   ]
  },
  {
   "cell_type": "code",
   "execution_count": null,
   "metadata": {},
   "outputs": [],
   "source": []
  }
 ],
 "metadata": {
  "kernelspec": {
   "display_name": "Python 3",
   "language": "python",
   "name": "python3"
  },
  "language_info": {
   "codemirror_mode": {
    "name": "ipython",
    "version": 3
   },
   "file_extension": ".py",
   "mimetype": "text/x-python",
   "name": "python",
   "nbconvert_exporter": "python",
   "pygments_lexer": "ipython3",
   "version": "3.11.2"
  },
  "orig_nbformat": 4
 },
 "nbformat": 4,
 "nbformat_minor": 2
}
