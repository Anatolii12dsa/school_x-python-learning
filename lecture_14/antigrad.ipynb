{
 "cells": [
  {
   "cell_type": "code",
   "execution_count": 1,
   "metadata": {},
   "outputs": [
    {
     "name": "stdout",
     "output_type": "stream",
     "text": [
      "Collecting sympy\n",
      "  Downloading sympy-1.12-py3-none-any.whl (5.7 MB)\n",
      "     ---------------------------------------- 0.0/5.7 MB ? eta -:--:--\n",
      "     ---------------------------------------- 0.0/5.7 MB 1.3 MB/s eta 0:00:05\n",
      "      --------------------------------------- 0.1/5.7 MB 1.3 MB/s eta 0:00:05\n",
      "     - -------------------------------------- 0.2/5.7 MB 1.8 MB/s eta 0:00:04\n",
      "     --- ------------------------------------ 0.4/5.7 MB 2.5 MB/s eta 0:00:03\n",
      "     ------ --------------------------------- 0.9/5.7 MB 4.1 MB/s eta 0:00:02\n",
      "     ----------- ---------------------------- 1.6/5.7 MB 6.0 MB/s eta 0:00:01\n",
      "     ---------------- ----------------------- 2.4/5.7 MB 7.6 MB/s eta 0:00:01\n",
      "     --------------------- ------------------ 3.1/5.7 MB 9.1 MB/s eta 0:00:01\n",
      "     --------------------- ------------------ 3.1/5.7 MB 9.1 MB/s eta 0:00:01\n",
      "     --------------------- ------------------ 3.1/5.7 MB 9.1 MB/s eta 0:00:01\n",
      "     --------------------- ------------------ 3.1/5.7 MB 9.1 MB/s eta 0:00:01\n",
      "     ------------------------- -------------- 3.7/5.7 MB 7.1 MB/s eta 0:00:01\n",
      "     --------------------------- ------------ 4.0/5.7 MB 7.1 MB/s eta 0:00:01\n",
      "     ------------------------------ --------- 4.3/5.7 MB 6.8 MB/s eta 0:00:01\n",
      "     ------------------------------- -------- 4.5/5.7 MB 6.6 MB/s eta 0:00:01\n",
      "     --------------------------------- ------ 4.9/5.7 MB 6.5 MB/s eta 0:00:01\n",
      "     ---------------------------------- ----- 5.0/5.7 MB 6.4 MB/s eta 0:00:01\n",
      "     -------------------------------------- - 5.5/5.7 MB 6.8 MB/s eta 0:00:01\n",
      "     -------------------------------------- - 5.5/5.7 MB 6.8 MB/s eta 0:00:01\n",
      "     -------------------------------------- - 5.5/5.7 MB 6.8 MB/s eta 0:00:01\n",
      "     -------------------------------------- - 5.5/5.7 MB 6.8 MB/s eta 0:00:01\n",
      "     ---------------------------------------  5.7/5.7 MB 5.6 MB/s eta 0:00:01\n",
      "     ---------------------------------------- 5.7/5.7 MB 5.4 MB/s eta 0:00:00\n",
      "Collecting mpmath>=0.19\n",
      "  Downloading mpmath-1.3.0-py3-none-any.whl (536 kB)\n",
      "     ---------------------------------------- 0.0/536.2 kB ? eta -:--:--\n",
      "     ------------------------------------- 536.2/536.2 kB 17.0 MB/s eta 0:00:00\n",
      "Installing collected packages: mpmath, sympy\n",
      "Successfully installed mpmath-1.3.0 sympy-1.12\n",
      "Note: you may need to restart the kernel to use updated packages.\n"
     ]
    },
    {
     "name": "stderr",
     "output_type": "stream",
     "text": [
      "\n",
      "[notice] A new release of pip is available: 23.0.1 -> 23.2.1\n",
      "[notice] To update, run: python.exe -m pip install --upgrade pip\n"
     ]
    }
   ],
   "source": [
    "%pip install sympy\n"
   ]
  },
  {
   "cell_type": "code",
   "execution_count": 2,
   "metadata": {},
   "outputs": [],
   "source": [
    "import sympy as sp"
   ]
  },
  {
   "cell_type": "code",
   "execution_count": 3,
   "metadata": {},
   "outputs": [],
   "source": [
    "x = sp.symbols('x')"
   ]
  },
  {
   "cell_type": "code",
   "execution_count": 4,
   "metadata": {},
   "outputs": [
    {
     "data": {
      "text/latex": [
       "$\\displaystyle \\left(x - 10\\right)^{2}$"
      ],
      "text/plain": [
       "(x - 10)**2"
      ]
     },
     "execution_count": 4,
     "metadata": {},
     "output_type": "execute_result"
    }
   ],
   "source": [
    "equation = (x - 10) ** 2\n",
    "equation"
   ]
  },
  {
   "cell_type": "code",
   "execution_count": 18,
   "metadata": {},
   "outputs": [
    {
     "data": {
      "text/latex": [
       "$\\displaystyle 2 x - 20$"
      ],
      "text/plain": [
       "2*x - 20"
      ]
     },
     "execution_count": 18,
     "metadata": {},
     "output_type": "execute_result"
    }
   ],
   "source": [
    "y = sp.diff(equation)\n",
    "y"
   ]
  },
  {
   "cell_type": "code",
   "execution_count": 21,
   "metadata": {},
   "outputs": [],
   "source": [
    "def antigrad(x,lr):\n",
    "\n",
    "    for i in range(6):\n",
    "        \n",
    "        y = 2 * (x - 10)\n",
    "        xn = x - lr * (y)\n",
    "        x = xn\n",
    "    return xn\n",
    "    "
   ]
  },
  {
   "cell_type": "code",
   "execution_count": 8,
   "metadata": {},
   "outputs": [],
   "source": [
    "x = 0\n",
    "lr = 0.7"
   ]
  },
  {
   "cell_type": "code",
   "execution_count": 38,
   "metadata": {},
   "outputs": [
    {
     "ename": "TypeError",
     "evalue": "antigrad() missing 2 required positional arguments: 'equation' and 'equation_diff'",
     "output_type": "error",
     "traceback": [
      "\u001b[1;31m---------------------------------------------------------------------------\u001b[0m",
      "\u001b[1;31mTypeError\u001b[0m                                 Traceback (most recent call last)",
      "\u001b[1;32mc:\\Users\\pozdn\\python_lek\\lecture_14\\antigrad.ipynb Ячейка 8\u001b[0m line \u001b[0;36m1\n\u001b[1;32m----> <a href='vscode-notebook-cell:/c%3A/Users/pozdn/python_lek/lecture_14/antigrad.ipynb#X10sZmlsZQ%3D%3D?line=0'>1</a>\u001b[0m a \u001b[39m=\u001b[39m antigrad(\u001b[39m0\u001b[39;49m, \u001b[39m0.7\u001b[39;49m)\n\u001b[0;32m      <a href='vscode-notebook-cell:/c%3A/Users/pozdn/python_lek/lecture_14/antigrad.ipynb#X10sZmlsZQ%3D%3D?line=1'>2</a>\u001b[0m a\n",
      "\u001b[1;31mTypeError\u001b[0m: antigrad() missing 2 required positional arguments: 'equation' and 'equation_diff'"
     ]
    }
   ],
   "source": [
    "a = antigrad(0, 0.7)\n",
    "a"
   ]
  },
  {
   "cell_type": "code",
   "execution_count": 37,
   "metadata": {},
   "outputs": [],
   "source": []
  },
  {
   "cell_type": "code",
   "execution_count": null,
   "metadata": {},
   "outputs": [],
   "source": []
  }
 ],
 "metadata": {
  "kernelspec": {
   "display_name": "Python 3",
   "language": "python",
   "name": "python3"
  },
  "language_info": {
   "codemirror_mode": {
    "name": "ipython",
    "version": 3
   },
   "file_extension": ".py",
   "mimetype": "text/x-python",
   "name": "python",
   "nbconvert_exporter": "python",
   "pygments_lexer": "ipython3",
   "version": "3.11.2"
  }
 },
 "nbformat": 4,
 "nbformat_minor": 2
}
