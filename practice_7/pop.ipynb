{
 "cells": [
  {
   "cell_type": "code",
   "execution_count": 29,
   "id": "38be408a-0f96-45b1-8b66-cfbdd749102a",
   "metadata": {},
   "outputs": [],
   "source": [
    "class MixinWalkable:\n",
    "    def walk(self):\n",
    "        print('I walk')\n",
    "        \n",
    "class MixinRunable:\n",
    "    def run(self):\n",
    "        print('I run')\n",
    "        \n",
    "class MixinJumpable:\n",
    "    def run(self):\n",
    "        print('I jump')\n",
    "\n",
    "class MixinStayable:\n",
    "    def run(self):\n",
    "        print('I stay')\n",
    "\n",
    "class MixinYellowable:\n",
    "    def run(self):\n",
    "        print('I yellowey')"
   ]
  },
  {
   "cell_type": "code",
   "execution_count": 31,
   "id": "f2c53f21-33a1-4278-a1b8-f4da98f99601",
   "metadata": {},
   "outputs": [],
   "source": [
    "class Characcter:\n",
    "    def __init__(\n",
    "        self,\n",
    "        weight: float = 70,\n",
    "        skin_color: str = 'black',\n",
    "        is_real: bool = False,\n",
    "        speed_kmh: float = 15,\n",
    "    ):\n",
    "        self.weight = weight\n",
    "        self.skin_color = skin_color\n",
    "        self.is_real = is_real\n",
    "        self.speed_kmh = speed_kmh  \n",
    "    def fall(self):\n",
    "        print('I fall')\n",
    "\n",
    "\n",
    "class Pop(MixinStayable, MixinYellowable):\n",
    "    def __init__(\n",
    "        self,\n",
    "        weight: float = 0.3,\n",
    "        skin_color: str = 'black',\n",
    "        is_real: bool = True,\n",
    "        speed_kmh: float = 0,\n",
    "    ):\n",
    "        self.weight = weight\n",
    "        self.skin_color = skin_color\n",
    "        self.is_real = is_real\n",
    "        self.speed_kmh = speed_kmh  \n",
    "\n",
    "    \n",
    "\n",
    "\n",
    "class Playable(MixinWalkeble, MixinRunable, MixinJumpable):\n",
    "     def __init__(\n",
    "        self,\n",
    "        weight: float = 70,\n",
    "        skin_color: str = 'black',\n",
    "        is_real: bool = False,\n",
    "        speed_kmh: float = 15,\n",
    "    ):\n",
    "        self.weight = weight\n",
    "        self.skin_color = skin_color\n",
    "        self.is_real = is_real\n",
    "        self.speed_kmh = speed_kmh  \n",
    "    \n",
    "\n",
    "   \n",
    "        "
   ]
  },
  {
   "cell_type": "code",
   "execution_count": 32,
   "id": "6ec814f3-1791-49ce-9a9c-545f9113de3c",
   "metadata": {},
   "outputs": [],
   "source": [
    "class RealSteave(Characcter, Playable):\n",
    "    def strong(self):\n",
    "        print('I am very strong')\n",
    "    def craft(self):\n",
    "        print('I can craft') "
   ]
  },
  {
   "cell_type": "code",
   "execution_count": 30,
   "id": "be2c8340-9c68-4cd7-9f6b-ec53e94330bb",
   "metadata": {},
   "outputs": [],
   "source": [
    "class FankoSteave(Pop):\n",
    "    pass"
   ]
  },
  {
   "cell_type": "code",
   "execution_count": 23,
   "id": "ba29666b-99c1-4f33-8930-16c4f0bf21ae",
   "metadata": {},
   "outputs": [],
   "source": [
    "Steave = RealSteave()"
   ]
  },
  {
   "cell_type": "code",
   "execution_count": 24,
   "id": "3fedc847-4994-4326-ab12-4e15e10a9758",
   "metadata": {},
   "outputs": [
    {
     "name": "stdout",
     "output_type": "stream",
     "text": [
      "I walk\n"
     ]
    }
   ],
   "source": [
    "Steave.walk()"
   ]
  },
  {
   "cell_type": "code",
   "execution_count": 25,
   "id": "ce0883f0-4a78-4e0f-b211-ecf90562f04a",
   "metadata": {},
   "outputs": [],
   "source": [
    "FSteave = FankoSteave()"
   ]
  },
  {
   "cell_type": "code",
   "execution_count": 28,
   "id": "33a0cdb0-c014-4298-b0b6-b1acdfc77143",
   "metadata": {},
   "outputs": [
    {
     "name": "stdout",
     "output_type": "stream",
     "text": [
      "I fall\n"
     ]
    }
   ],
   "source": [
    "FSteave.fall()"
   ]
  },
  {
   "cell_type": "code",
   "execution_count": 34,
   "id": "5323ad12-7690-4b75-a99d-f5057b6e5316",
   "metadata": {},
   "outputs": [],
   "source": [
    "class RealIlyaL(Playable):\n",
    "    def talk(self):\n",
    "        print('You need write 3 character')\n",
    "    def drink(self):\n",
    "        print('I drink a cup of coffee') "
   ]
  },
  {
   "cell_type": "code",
   "execution_count": 35,
   "id": "a3031182-6062-43ff-a1a2-b5b31571a3e3",
   "metadata": {},
   "outputs": [],
   "source": [
    "class FankoIlyaL(Pop):\n",
    "    pass"
   ]
  },
  {
   "cell_type": "code",
   "execution_count": 36,
   "id": "e7a85db5-20ca-4edb-bd67-4234633a002d",
   "metadata": {},
   "outputs": [],
   "source": [
    "class RealSpiderMan(Playable):\n",
    "    def net(self):\n",
    "        print('I have net')\n",
    "    def kill(self):\n",
    "        print('I can kill you') \n"
   ]
  },
  {
   "cell_type": "code",
   "execution_count": null,
   "id": "8f8745a5-fe13-4ba9-b44c-0d7572c6c1f0",
   "metadata": {},
   "outputs": [],
   "source": [
    "class FankoSpiderMan(Pop):\n",
    "    pass"
   ]
  }
 ],
 "metadata": {
  "kernelspec": {
   "display_name": "Python 3 (ipykernel)",
   "language": "python",
   "name": "python3"
  },
  "language_info": {
   "codemirror_mode": {
    "name": "ipython",
    "version": 3
   },
   "file_extension": ".py",
   "mimetype": "text/x-python",
   "name": "python",
   "nbconvert_exporter": "python",
   "pygments_lexer": "ipython3",
   "version": "3.11.2"
  }
 },
 "nbformat": 4,
 "nbformat_minor": 5
}
