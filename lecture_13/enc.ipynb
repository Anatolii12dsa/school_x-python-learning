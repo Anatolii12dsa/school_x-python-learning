{
 "cells": [
  {
   "cell_type": "code",
   "execution_count": null,
   "metadata": {},
   "outputs": [],
   "source": []
  },
  {
   "cell_type": "code",
   "execution_count": 10,
   "metadata": {},
   "outputs": [
    {
     "name": "stdout",
     "output_type": "stream",
     "text": [
      "['PassengerId', 'Pclass', 'Name', 'Sex', 'Age', 'SibSp', 'Parch', 'Ticket', 'Fare', 'Cabin', 'Embarked']\n",
      "['892', '3', '\"Kelly', ' Mr. James\"', 'male', '34.5', '0', '0', '330911', '7.8292', '', 'Q']\n",
      "['893', '3', '\"Wilkes', ' Mrs. James (Ellen Needs)\"', 'female', '47', '1', '0', '363272', '7', '', 'S']\n",
      "['894', '2', '\"Myles', ' Mr. Thomas Francis\"', 'male', '62', '0', '0', '240276', '9.6875', '', 'Q']\n",
      "['895', '3', '\"Wirz', ' Mr. Albert\"', 'male', '27', '0', '0', '315154', '8.6625', '', 'S']\n",
      "['896', '3', '\"Hirvonen', ' Mrs. Alexander (Helga E Lindqvist)\"', 'female', '22', '1', '1', '3101298', '12.2875', '', 'S']\n",
      "['897', '3', '\"Svensson', ' Mr. Johan Cervin\"', 'male', '14', '0', '0', '7538', '9.225', '', 'S']\n",
      "['898', '3', '\"Connolly', ' Miss. Kate\"', 'female', '30', '0', '0', '330972', '7.6292', '', 'Q']\n",
      "['899', '2', '\"Caldwell', ' Mr. Albert Francis\"', 'male', '26', '1', '1', '248738', '29', '', 'S']\n",
      "['900', '3', '\"Abrahim', ' Mrs. Joseph (Sophie Halaut Easu)\"', 'female', '18', '0', '0', '2657', '7.2292', '', 'C']\n"
     ]
    }
   ],
   "source": [
    "file = open('test.csv', 'r')\n",
    "# file.readlines()\n",
    "file_lines = file.readlines()\n",
    "for i in range(10):\n",
    "    print(file_lines[i].strip('\\n').split(','))\n",
    "file.close()"
   ]
  },
  {
   "cell_type": "code",
   "execution_count": 14,
   "metadata": {},
   "outputs": [
    {
     "name": "stdout",
     "output_type": "stream",
     "text": [
      "PassengerId,Pclass,Name,Sex,Age,SibSp,Parch,Ticket,Fare,Cabin,Embarked\n",
      "892,3,\"Kelly, Mr. James\",male\n",
      ",34.5,0,0,330911,7.8292,,Q\n",
      "893,3,\"Wilkes, Mrs. James (Ellen Needs)\",female,47,1,0,363272,7,,S\n",
      "894,2,\n",
      "\"Myles, Mr. Thomas Francis\",male,62,0,0,240276,9.6875,,Q\n",
      "895,3,\"Wirz, Mr. Albert\",male,27,0,0,315154\n"
     ]
    }
   ],
   "source": [
    "with open('test.csv', 'r') as file:\n",
    "    print(file.read(100))\n",
    "    print(file.read(100))\n",
    "    print(file.read(100))\n",
    "    # for i in range(20):\n",
    "    #     print(file.read(i).strip('\\n').split(','))"
   ]
  },
  {
   "cell_type": "code",
   "execution_count": 19,
   "metadata": {},
   "outputs": [],
   "source": [
    "a = int(input('1: '))\n",
    "b = int(input('2: '))\n",
    "\n",
    "with open('out.txt', 'w+', encoding='utf-8') as wfile:\n",
    "    wfile.write(f'{a**2} + {b**3} = {a**2 + b**3}\\n')\n",
    "    wfile.write(f'{a} + {b} = {a + b}\\n')\n",
    "    \n"
   ]
  },
  {
   "cell_type": "code",
   "execution_count": 21,
   "metadata": {},
   "outputs": [],
   "source": [
    "with open('b_out.txt', 'wb+') as wbfile:\n",
    "    wbfile.write(b'hello')  #b - бинарный режим, (wb)- запись в бинарном режиме\n",
    " "
   ]
  },
  {
   "cell_type": "code",
   "execution_count": 26,
   "metadata": {},
   "outputs": [
    {
     "name": "stdout",
     "output_type": "stream",
     "text": [
      "[0, 1, 4, 9, 16, 25, 36, 49, 64, 81]\n",
      "[0, 1, 4, 9, 16, 25, 36, 49, 64, 81]\n"
     ]
    }
   ],
   "source": [
    "def list_squared(num: int) -> list[int]:\n",
    "    new_list = []\n",
    "    for n in range(num):\n",
    "        new_list.append(n**2)\n",
    "    return[n**2 for n in range(num)]\n",
    "\n",
    "def gen_squared(num: int) -> list[int]:\n",
    "    for n in range(num):\n",
    "        yield n**2\n",
    "\n",
    "print(list_squared(10))\n",
    "print(list(gen_squared(10)))"
   ]
  },
  {
   "cell_type": "code",
   "execution_count": 27,
   "metadata": {},
   "outputs": [
    {
     "name": "stdout",
     "output_type": "stream",
     "text": [
      "1.7 µs ± 79 ns per loop (mean ± std. dev. of 7 runs, 1,000,000 loops each)\n",
      "1.43 µs ± 80.3 ns per loop (mean ± std. dev. of 7 runs, 1,000,000 loops each)\n"
     ]
    }
   ],
   "source": [
    "%timeit list_squared(10)\n",
    "%timeit list(gen_squared(10))"
   ]
  },
  {
   "cell_type": "code",
   "execution_count": 28,
   "metadata": {},
   "outputs": [
    {
     "data": {
      "text/plain": [
       "<generator object gen_squared at 0x000001ABABF7D220>"
      ]
     },
     "execution_count": 28,
     "metadata": {},
     "output_type": "execute_result"
    }
   ],
   "source": [
    "gen = gen_squared(10)\n",
    "gen"
   ]
  },
  {
   "cell_type": "code",
   "execution_count": 39,
   "metadata": {},
   "outputs": [
    {
     "ename": "StopIteration",
     "evalue": "",
     "output_type": "error",
     "traceback": [
      "\u001b[1;31m---------------------------------------------------------------------------\u001b[0m",
      "\u001b[1;31mStopIteration\u001b[0m                             Traceback (most recent call last)",
      "\u001b[1;32mc:\\Users\\pozdn\\python_lek\\lecture_13\\enc.ipynb Ячейка 9\u001b[0m line \u001b[0;36m1\n\u001b[1;32m----> <a href='vscode-notebook-cell:/c%3A/Users/pozdn/python_lek/lecture_13/enc.ipynb#X11sZmlsZQ%3D%3D?line=0'>1</a>\u001b[0m \u001b[39mnext\u001b[39;49m(gen)\n",
      "\u001b[1;31mStopIteration\u001b[0m: "
     ]
    }
   ],
   "source": [
    "next(gen)"
   ]
  },
  {
   "cell_type": "code",
   "execution_count": 41,
   "metadata": {},
   "outputs": [
    {
     "data": {
      "text/plain": [
       "[0, 10, 20, 30]"
      ]
     },
     "execution_count": 41,
     "metadata": {},
     "output_type": "execute_result"
    }
   ],
   "source": [
    "def hate_40(num: float | int) -> list[float|int]:\n",
    "    for i in range(num):\n",
    "        if i * 10 != 40:\n",
    "            yield i * 10\n",
    "        else:\n",
    "            return\n",
    "\n",
    "list(hate_40(6))"
   ]
  },
  {
   "cell_type": "code",
   "execution_count": null,
   "metadata": {},
   "outputs": [],
   "source": []
  }
 ],
 "metadata": {
  "kernelspec": {
   "display_name": "Python 3",
   "language": "python",
   "name": "python3"
  },
  "language_info": {
   "codemirror_mode": {
    "name": "ipython",
    "version": 3
   },
   "file_extension": ".py",
   "mimetype": "text/x-python",
   "name": "python",
   "nbconvert_exporter": "python",
   "pygments_lexer": "ipython3",
   "version": "3.11.2"
  }
 },
 "nbformat": 4,
 "nbformat_minor": 2
}
