{
 "cells": [
  {
   "cell_type": "code",
   "execution_count": 20,
   "id": "31c2baa3-1b69-46e1-867c-6c65ceece971",
   "metadata": {},
   "outputs": [],
   "source": [
    "class Character:\n",
    "    def __init__(\n",
    "        self,\n",
    "        strong: float | int = 45,\n",
    "        agility: float | int = 100,\n",
    "        intelegence: float | int = 150,\n",
    "        \n",
    "    \n",
    "    ):\n",
    "        self.strong = strong\n",
    "        self.agility = agility\n",
    "        self.intelegence = intelegence\n",
    "        self.speed = speed\n",
    "   \n",
    "            \n",
    "    def speed(self):     \n",
    "        if agility >= 100:\n",
    "            speed: float = 15\n",
    "            print('я могу перемещаться очень быстро')\n",
    "        else:\n",
    "            speed: flaot = 2  \n",
    "            print('я могу перемещаться очень медленно')\n",
    "    def damage(self):\n",
    "        if strong >= 40:\n",
    "            damage: float = 20\n",
    "            print('я могу сненсти тебе 20 жизней')\n",
    "        else:\n",
    "            damage: flaot = 2  \n",
    "            print('я могу снести тебе 2 жизни')\n",
    "    def trade(self):\n",
    "        if intelegence >=150:\n",
    "            print('я бы хотел купить у вас всё из этого списка, вы мне на прошлой неделе обещали скидку 100%')\n",
    "        elif intelegence >= 100 and intelegence < 150:\n",
    "            print('я хочу купить у вас этот меч')\n",
    "        else:\n",
    "            print('дайте мне этот яйфон в кредит')\n",
    "    def wait(self):\n",
    "        print('я жду')\n",
    "\n",
    "    def think(self):\n",
    "        print('я думаю')\n",
    "\n",
    "    def move(self):\n",
    "        print('я двигаюсь')\n",
    "         \n",
    "    "
   ]
  },
  {
   "cell_type": "code",
   "execution_count": 23,
   "id": "ae8a3a11-1c1e-4bd5-88da-375e123196a3",
   "metadata": {},
   "outputs": [],
   "source": [
    "class Hero(character):\n",
    "    def bow(self):\n",
    "        print('У меня есть лук, хаха, я могу снести тебе: 50')\n",
    "    \n",
    "    def katana(self):\n",
    "        print('У меня есть лук, хаха, я могу снести тебе: 100')\n",
    "    "
   ]
  },
  {
   "cell_type": "code",
   "execution_count": null,
   "id": "be0a8d58-3ce7-4d60-b4c8-055ee38479f1",
   "metadata": {},
   "outputs": [],
   "source": [
    "\n"
   ]
  },
  {
   "cell_type": "code",
   "execution_count": 24,
   "id": "76126a89-6cc1-4585-86b1-41e09a01b8a3",
   "metadata": {},
   "outputs": [],
   "source": [
    "class Villain(character):\n",
    "    def __init__(\n",
    "        self,\n",
    "        strong: float | int = 45,\n",
    "        agility: float | int = 100,\n",
    "        intelegence: float | int = 150,\n",
    "        hp: int | float = None,\n",
    "    \n",
    "    ):\n",
    "        self.strong = strong\n",
    "        self.agility = agility\n",
    "        self.intelegence = intelegence\n",
    "        self.speed = speed\n",
    "        self.hp = hp\n",
    "    \n",
    "\n",
    "    def immortality(self, hp):\n",
    "        self.hp = 1000000\n",
    "        print('хаахха, теперь показатель моего здоровья равен', self.hp)\n",
    "        \n",
    "    \n",
    "        "
   ]
  },
  {
   "cell_type": "code",
   "execution_count": 25,
   "id": "ef3cc3e6-ae0c-4fa6-a995-c518e5f26f48",
   "metadata": {},
   "outputs": [],
   "source": [
    "class Vova(Hero):\n",
    "    def __init__(\n",
    "        name: str | None = None,\n",
    "    ):\n",
    "        self.name = name\n",
    "        \n",
    "    \n",
    "    "
   ]
  },
  {
   "cell_type": "code",
   "execution_count": null,
   "id": "a3c2f4f1-5edf-4b38-a2a4-e998b4c6286f",
   "metadata": {},
   "outputs": [],
   "source": []
  },
  {
   "cell_type": "code",
   "execution_count": null,
   "id": "d65765b6-fe4b-4432-9793-8b37f9716ecb",
   "metadata": {},
   "outputs": [],
   "source": []
  },
  {
   "cell_type": "code",
   "execution_count": 40,
   "id": "4b817f63-8a28-4754-8770-e4861464f548",
   "metadata": {},
   "outputs": [],
   "source": [
    "class Avov(Villain):\n",
    "    def __init__(\n",
    "        name: str | None = None,\n",
    "    ):\n",
    "        self.name = name\n",
    "    "
   ]
  },
  {
   "cell_type": "code",
   "execution_count": 41,
   "id": "415467c4-6470-474a-9f8d-35b9d89d5644",
   "metadata": {},
   "outputs": [],
   "source": [
    "Avov.name = 'Avov'\n"
   ]
  },
  {
   "cell_type": "code",
   "execution_count": 42,
   "id": "ba318cf2-b0a6-4c9d-89ec-3ecfb8dbaef9",
   "metadata": {},
   "outputs": [
    {
     "data": {
      "text/plain": [
       "'Avov'"
      ]
     },
     "execution_count": 42,
     "metadata": {},
     "output_type": "execute_result"
    }
   ],
   "source": [
    "Avov.name"
   ]
  },
  {
   "cell_type": "code",
   "execution_count": null,
   "id": "47bc1fe2-75fd-4e0d-b791-7b555c36cb6c",
   "metadata": {},
   "outputs": [],
   "source": []
  },
  {
   "cell_type": "code",
   "execution_count": null,
   "id": "fac5ce5d-1ce1-45f8-a166-f6321f7f6147",
   "metadata": {},
   "outputs": [],
   "source": []
  },
  {
   "cell_type": "code",
   "execution_count": null,
   "id": "c6492631-287e-4da4-abee-df6f7a985451",
   "metadata": {},
   "outputs": [],
   "source": []
  }
 ],
 "metadata": {
  "kernelspec": {
   "display_name": "Python 3 (ipykernel)",
   "language": "python",
   "name": "python3"
  },
  "language_info": {
   "codemirror_mode": {
    "name": "ipython",
    "version": 3
   },
   "file_extension": ".py",
   "mimetype": "text/x-python",
   "name": "python",
   "nbconvert_exporter": "python",
   "pygments_lexer": "ipython3",
   "version": "3.11.2"
  }
 },
 "nbformat": 4,
 "nbformat_minor": 5
}
