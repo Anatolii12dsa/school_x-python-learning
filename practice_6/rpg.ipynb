{
 "cells": [
  {
   "cell_type": "code",
   "execution_count": 34,
   "id": "31c2baa3-1b69-46e1-867c-6c65ceece971",
   "metadata": {},
   "outputs": [],
   "source": [
    "class character:\n",
    "    def __init__(\n",
    "        self,\n",
    "        trade: str | None = None,\n",
    "        wait: str | None = None,\n",
    "        think: str | None = None,\n",
    "        move: str | None = None,\n",
    "    ):\n",
    "        self.trade = trade\n",
    "        self.wait = wait\n",
    "        self.think = think\n",
    "        self.move = move\n",
    "        \n",
    "    def damage(self, strong: int | float = 10):\n",
    "        print('Моя сила равна:', strong, 'и я могу снести тебе:', strong / 10, 'hp')\n",
    "        \n",
    "    def speed(self, agility: int | float = 100):\n",
    "        print('Моя ловкость равна:', agility, 'и я могу бегать со скоростью:',  agility / 10, 'м/с')\n",
    "        \n",
    "    def intelligence(self, iq: int|float = 150):\n",
    "        if iq <= 60:\n",
    "            \n",
    "            print('К сожалению,я такой глупый, что буду просто стоять на месте')\n",
    "            \n",
    "        elif iq >= 150:\n",
    "            print('Я знаю все твои слабые места, поэтому я смогу нанести тебе в два раза больше урона')\n",
    "            \n",
    "        else:\n",
    "            print('я самый обычный герой')\n",
    "    \n",
    "        \n",
    "    "
   ]
  },
  {
   "cell_type": "code",
   "execution_count": 35,
   "id": "ae8a3a11-1c1e-4bd5-88da-375e123196a3",
   "metadata": {},
   "outputs": [],
   "source": [
    "class Hero(character):\n",
    "    def bow(self,  strong: int | float = 10):\n",
    "        print('У меня есть лук, хаха, я могу снести тебе:', strong * 2, 'hp')\n",
    "    \n",
    "    def katana(self,  agility: int | float = 100):\n",
    "        print('У меня есть лук, хаха, я могу снести тебе:', agility / 1.5, 'hp')\n",
    "    "
   ]
  },
  {
   "cell_type": "code",
   "execution_count": 36,
   "id": "76126a89-6cc1-4585-86b1-41e09a01b8a3",
   "metadata": {},
   "outputs": [],
   "source": [
    "class Villain(character):\n",
    "    def __init__(\n",
    "        hp: int | float = None,\n",
    "    ):\n",
    "        self.hp = hp\n",
    "\n",
    "    def immortality(self, hp):\n",
    "        self.hp = 1000000\n",
    "        print('хаахха, теперь показатель моего здоровья равен', self.hp)\n",
    "        \n",
    "    \n",
    "        "
   ]
  },
  {
   "cell_type": "code",
   "execution_count": 37,
   "id": "ef3cc3e6-ae0c-4fa6-a995-c518e5f26f48",
   "metadata": {},
   "outputs": [],
   "source": [
    "class Vova(Hero):\n",
    "    def __init__(\n",
    "        name: str | None = None,\n",
    "    ):\n",
    "        self.name = name\n",
    "        \n",
    "    \n",
    "    "
   ]
  },
  {
   "cell_type": "code",
   "execution_count": 38,
   "id": "a3c2f4f1-5edf-4b38-a2a4-e998b4c6286f",
   "metadata": {},
   "outputs": [],
   "source": [
    "Vova = V"
   ]
  },
  {
   "cell_type": "code",
   "execution_count": 39,
   "id": "d65765b6-fe4b-4432-9793-8b37f9716ecb",
   "metadata": {},
   "outputs": [
    {
     "data": {
      "text/plain": [
       "'Vova'"
      ]
     },
     "execution_count": 39,
     "metadata": {},
     "output_type": "execute_result"
    }
   ],
   "source": [
    "Vova.name"
   ]
  },
  {
   "cell_type": "code",
   "execution_count": 40,
   "id": "4b817f63-8a28-4754-8770-e4861464f548",
   "metadata": {},
   "outputs": [],
   "source": [
    "class Avov(Villain):\n",
    "    def __init__(\n",
    "        name: str | None = None,\n",
    "    ):\n",
    "        self.name = name\n",
    "    "
   ]
  },
  {
   "cell_type": "code",
   "execution_count": 41,
   "id": "415467c4-6470-474a-9f8d-35b9d89d5644",
   "metadata": {},
   "outputs": [],
   "source": [
    "Avov.name = 'Avov'\n"
   ]
  },
  {
   "cell_type": "code",
   "execution_count": 42,
   "id": "ba318cf2-b0a6-4c9d-89ec-3ecfb8dbaef9",
   "metadata": {},
   "outputs": [
    {
     "data": {
      "text/plain": [
       "'Avov'"
      ]
     },
     "execution_count": 42,
     "metadata": {},
     "output_type": "execute_result"
    }
   ],
   "source": [
    "Avov.name"
   ]
  },
  {
   "cell_type": "code",
   "execution_count": 44,
   "id": "47bc1fe2-75fd-4e0d-b791-7b555c36cb6c",
   "metadata": {},
   "outputs": [
    {
     "ename": "NameError",
     "evalue": "name 'Villian' is not defined",
     "output_type": "error",
     "traceback": [
      "\u001b[1;31m---------------------------------------------------------------------------\u001b[0m",
      "\u001b[1;31mNameError\u001b[0m                                 Traceback (most recent call last)",
      "Cell \u001b[1;32mIn[44], line 1\u001b[0m\n\u001b[1;32m----> 1\u001b[0m \u001b[43mVillian\u001b[49m\u001b[38;5;241m.\u001b[39mimmortality()\n",
      "\u001b[1;31mNameError\u001b[0m: name 'Villian' is not defined"
     ]
    }
   ],
   "source": [
    "Villian.immortality()"
   ]
  },
  {
   "cell_type": "code",
   "execution_count": null,
   "id": "fac5ce5d-1ce1-45f8-a166-f6321f7f6147",
   "metadata": {},
   "outputs": [],
   "source": []
  },
  {
   "cell_type": "code",
   "execution_count": null,
   "id": "c6492631-287e-4da4-abee-df6f7a985451",
   "metadata": {},
   "outputs": [],
   "source": []
  }
 ],
 "metadata": {
  "kernelspec": {
   "display_name": "Python 3 (ipykernel)",
   "language": "python",
   "name": "python3"
  },
  "language_info": {
   "codemirror_mode": {
    "name": "ipython",
    "version": 3
   },
   "file_extension": ".py",
   "mimetype": "text/x-python",
   "name": "python",
   "nbconvert_exporter": "python",
   "pygments_lexer": "ipython3",
   "version": "3.11.2"
  }
 },
 "nbformat": 4,
 "nbformat_minor": 5
}
