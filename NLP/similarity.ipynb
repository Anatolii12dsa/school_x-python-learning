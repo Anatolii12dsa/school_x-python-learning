{
 "cells": [
  {
   "cell_type": "code",
   "execution_count": 9,
   "metadata": {},
   "outputs": [],
   "source": [
    "import spacy as sp\n",
    "import nltk\n",
    "from nltk.corpus import stopwords\n",
    "import collections\n",
    "nlp = sp.load('ru_core_news_sm')"
   ]
  },
  {
   "cell_type": "code",
   "execution_count": 25,
   "metadata": {},
   "outputs": [],
   "source": [
    "wordtok = nltk.tokenize.RegexpTokenizer('\\w+')\n",
    "\n",
    "with open ('1886 Скучная история .txt', 'r', encoding='windows-1251') as book1:\n",
    "    text1 = book1.read()\n",
    "words1 = wordtok.tokenize(text1)\n",
    "words1ful = word_tokenize(text1)\n",
    "with open ('1889 Лошадиная фамилия.txt', 'r', encoding='windows-1251') as book2:\n",
    "    text2 = book2.read()\n",
    "words2 = wordtok.tokenize(text2)\n",
    "words2ful = word_tokenize(text2)\n",
    "with open ('1896 Дом с мезонином.txt', 'r', encoding='windows-1251') as book3:\n",
    "    text3 = book3.read()\n",
    "words3 = wordtok.tokenize(text3)\n",
    "words3ful = word_tokenize(text3)\n",
    "with open ('1899 Дама с собачкой.txt', 'r', encoding='windows-1251') as book4:\n",
    "    text4 = book4.read()\n",
    "words4 = wordtok.tokenize(text4)\n",
    "words4ful = word_tokenize(text4)\n",
    "with open ('1900 Три сестры.txt', 'r', encoding='windows-1251') as book5:\n",
    "    text5 = book5.read()\n",
    "words5 = wordtok.tokenize(text5)\n",
    "words5ful = word_tokenize(text5)\n",
    "with open ('1904 Вишневый сад.txt', 'r', encoding='windows-1251') as book6:\n",
    "    text6 = book6.read()\n",
    "words6 = wordtok.tokenize(text6)\n",
    "words6ful = word_tokenize(text6)\n"
   ]
  },
  {
   "cell_type": "code",
   "execution_count": 26,
   "metadata": {},
   "outputs": [],
   "source": [
    "stop = stopwords.words('russian')\n"
   ]
  },
  {
   "cell_type": "code",
   "execution_count": 27,
   "metadata": {},
   "outputs": [],
   "source": [
    "words1_filt = [word for word in words1 if word not in stop]\n",
    "words2_filt = [word for word in words2 if word not in stop]\n",
    "words3_filt = [word for word in words3 if word not in stop]\n",
    "words4_filt = [word for word in words4 if word not in stop]\n",
    "words5_filt = [word for word in words5 if word not in stop]\n",
    "words6_filt = [word for word in words6 if word not in stop]\n"
   ]
  },
  {
   "cell_type": "code",
   "execution_count": 32,
   "metadata": {},
   "outputs": [],
   "source": [
    "name_book = ['1886 Скучная история', '1889 Лошадиная фамилия', '1896 Дом с мезонином', '1899 Дама с собачкой', '1900 Три сестры', '1904 Вишневый сад']\n",
    "wordsful = [words1ful, words2ful, words3ful, words4ful, words5ful, words6ful]\n",
    "words_filt = [words1_filt, words2_filt, words3_filt, words4_filt, words5_filt, words6_filt]"
   ]
  },
  {
   "cell_type": "code",
   "execution_count": 40,
   "metadata": {},
   "outputs": [
    {
     "name": "stdout",
     "output_type": "stream",
     "text": [
      "1886 Скучная история\n",
      " Количесво токенов в тексте = 22610\n",
      " количество токенов в отфильтрованном тексте = 11412\n",
      "Разница = 11198 что является -49%\n",
      "1889 Лошадиная фамилия\n",
      " Количесво токенов в тексте = 1210\n",
      " количество токенов в отфильтрованном тексте = 645\n",
      "Разница = 565 что является -52%\n",
      "1896 Дом с мезонином\n",
      " Количесво токенов в тексте = 7161\n",
      " количество токенов в отфильтрованном тексте = 3573\n",
      "Разница = 3588 что является -48%\n",
      "1899 Дама с собачкой\n",
      " Количесво токенов в тексте = 6471\n",
      " количество токенов в отфильтрованном тексте = 3010\n",
      "Разница = 3461 что является -45%\n",
      "1900 Три сестры\n",
      " Количесво токенов в тексте = 22778\n",
      " количество токенов в отфильтрованном тексте = 11253\n",
      "Разница = 11525 что является -48%\n",
      "1904 Вишневый сад\n",
      " Количесво токенов в тексте = 18317\n",
      " количество токенов в отфильтрованном тексте = 9186\n",
      "Разница = 9131 что является -49%\n"
     ]
    }
   ],
   "source": [
    "for i in range (6):\n",
    "    print(f'{name_book[i]}\\n Количесво токенов в тексте = {len(wordsful[i])}\\n количество токенов в отфильтрованном тексте = {len(words_filt[i])}\\nРазница = {len(wordsful[i])-len(words_filt[i])} что является { int(1 - (len(words_filt[i])/len(wordsful[i])) * 100)}%')"
   ]
  },
  {
   "cell_type": "code",
   "execution_count": 14,
   "metadata": {},
   "outputs": [
    {
     "data": {
      "text/plain": [
       "22610"
      ]
     },
     "execution_count": 14,
     "metadata": {},
     "output_type": "execute_result"
    }
   ],
   "source": [
    "\n"
   ]
  },
  {
   "cell_type": "code",
   "execution_count": 15,
   "metadata": {},
   "outputs": [
    {
     "data": {
      "text/plain": [
       "15949"
      ]
     },
     "execution_count": 15,
     "metadata": {},
     "output_type": "execute_result"
    }
   ],
   "source": []
  },
  {
   "cell_type": "code",
   "execution_count": null,
   "metadata": {},
   "outputs": [],
   "source": []
  }
 ],
 "metadata": {
  "kernelspec": {
   "display_name": "Python 3",
   "language": "python",
   "name": "python3"
  },
  "language_info": {
   "codemirror_mode": {
    "name": "ipython",
    "version": 3
   },
   "file_extension": ".py",
   "mimetype": "text/x-python",
   "name": "python",
   "nbconvert_exporter": "python",
   "pygments_lexer": "ipython3",
   "version": "3.11.2"
  }
 },
 "nbformat": 4,
 "nbformat_minor": 2
}
