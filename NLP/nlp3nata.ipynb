{
 "cells": [
  {
   "cell_type": "code",
   "execution_count": 2,
   "metadata": {},
   "outputs": [],
   "source": [
    "\n",
    "import spacy\n",
    "from spacy import displacy\n",
    "import nltk\n",
    "from nltk.parse.corenlp import CoreNLPDependencyParser\n",
    "nlp = spacy.load('ru_core_news_sm')\n"
   ]
  },
  {
   "cell_type": "code",
   "execution_count": 3,
   "metadata": {},
   "outputs": [],
   "source": [
    "with open('1886 Скучная история .txt', 'r', encoding='Windows-1251') as book1:\n",
    "    text1 = book1.read()\n",
    "\n",
    "doc1 = nlp(text1)\n",
    "with open('1889 Лошадиная фамилия.txt', 'r', encoding='Windows-1251') as book2:\n",
    "    text2 = book2.read()\n",
    "\n",
    "doc2 = nlp(text2)\n",
    "with open('1896 Дом с мезонином.txt', 'r', encoding='Windows-1251') as book3:\n",
    "    text3 = book3.read()\n",
    "\n",
    "doc3 = nlp(text3)\n",
    "with open('1899 Дама с собачкой.txt', 'r', encoding='Windows-1251') as book4:\n",
    "    text4 = book4.read()\n",
    "\n",
    "doc4 = nlp(text4)\n",
    "with open('1900 Три сестры.txt', 'r', encoding='Windows-1251') as book5:\n",
    "    text5 = book5.read()\n",
    "\n",
    "doc5 = nlp(text5)\n",
    "with open('1904 Вишневый сад.txt', 'r', encoding='Windows-1251') as book6:\n",
    "    text6 = book6.read()\n",
    "\n",
    "doc6 = nlp(text6)"
   ]
  },
  {
   "cell_type": "code",
   "execution_count": 8,
   "metadata": {},
   "outputs": [
    {
     "name": "stdout",
     "output_type": "stream",
     "text": [
      "1886 Скучная история - кол-во воскл предложений = 125, кол-во попр предложений = 141\n",
      " 1889 Лошадиная фамилия - кол-во воскл предложений = 37, кол-во вопр предложений = 23\n",
      "1896 Дом с мезонином - кол-во воскл предложений = 21, кол-во вопр предложений = 23\n",
      "1899 Дама с собачкой - кол-во воскл предложений = 28, кол-во вопр предложений = 28\n",
      "1900 Три сестры - кол-во воскл предложений = 28, кол-во вопр предложений = 28\n",
      "1904 Вишневый сад - кол-во воскл предложений = 385, кол-во вопр предложений = 197\n",
      "\n"
     ]
    }
   ],
   "source": [
    "name_book = ['1886 Скучная история', '1889 Лошадиная фамилия', '1896 Дом с мезонином', '1899 Дама с собачкой', '1900 Три сестры', '1904 Вишневый сад']\n",
    "def count_exclamation_and_question_marks(text):\n",
    "    doc = nlp(text)\n",
    "    exclamation_count = 0\n",
    "    question_count = 0\n",
    "\n",
    "    for token in doc:\n",
    "        if token.text == \"!\":\n",
    "            exclamation_count += 1\n",
    "        elif token.text == \"?\":\n",
    "            question_count += 1\n",
    "\n",
    "    return exclamation_count, question_count\n",
    "\n",
    "exclamation_count1, question_count1 = count_exclamation_and_question_marks(text1)\n",
    "exclamation_count2, question_count2 = count_exclamation_and_question_marks(text2)\n",
    "exclamation_count3, question_count3 = count_exclamation_and_question_marks(text3)\n",
    "exclamation_count4, question_count4 = count_exclamation_and_question_marks(text4)\n",
    "exclamation_count5, question_count5 = count_exclamation_and_question_marks(text5)\n",
    "exclamation_count6, question_count6 = count_exclamation_and_question_marks(text6)\n",
    "\n",
    "print(f'{name_book[0]} - кол-во воскл предложений = {exclamation_count1}, кол-во попр предложений = {question_count1}\\n {name_book[1]} - кол-во воскл предложений = {exclamation_count2}, кол-во вопр предложений = {question_count2}\\n{name_book[2]} - кол-во воскл предложений = {exclamation_count3}, кол-во вопр предложений = {question_count3}\\n{name_book[3]} - кол-во воскл предложений = {exclamation_count4}, кол-во вопр предложений = {question_count4}\\n{name_book[4]} - кол-во воскл предложений = {exclamation_count4}, кол-во вопр предложений = {question_count4}\\n{name_book[5]} - кол-во воскл предложений = {exclamation_count5}, кол-во вопр предложений = {question_count5}\\n')\n"
   ]
  },
  {
   "cell_type": "markdown",
   "metadata": {},
   "source": []
  },
  {
   "cell_type": "code",
   "execution_count": null,
   "metadata": {},
   "outputs": [],
   "source": []
  }
 ],
 "metadata": {
  "kernelspec": {
   "display_name": "Python 3",
   "language": "python",
   "name": "python3"
  },
  "language_info": {
   "codemirror_mode": {
    "name": "ipython",
    "version": 3
   },
   "file_extension": ".py",
   "mimetype": "text/x-python",
   "name": "python",
   "nbconvert_exporter": "python",
   "pygments_lexer": "ipython3",
   "version": "3.11.2"
  }
 },
 "nbformat": 4,
 "nbformat_minor": 2
}
